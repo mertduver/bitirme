{
 "nbformat": 4,
 "nbformat_minor": 0,
 "metadata": {
  "colab": {
   "name": "bitirme2.ipynb",
   "provenance": [],
   "collapsed_sections": [
    "socLP7PTYh_F"
   ]
  },
  "kernelspec": {
   "name": "python3",
   "display_name": "Python 3"
  },
  "language_info": {
   "name": "python"
  }
 },
 "cells": [
  {
   "cell_type": "code",
   "execution_count": 419,
   "metadata": {
    "id": "_PHD0XCfUtc_",
    "pycharm": {
     "name": "#%%\n"
    }
   },
   "outputs": [],
   "source": [
    "# import torch\n",
    "# from torch.autograd import Variable\n",
    "import pandas as pd\n",
    "import matplotlib.pyplot as plt\n",
    "import numpy as np\n",
    "import sklearn\n",
    "import seaborn as sns\n",
    "from pandas_profiling import ProfileReport\n",
    "from sklearn.metrics import precision_score, recall_score, precision_recall_curve,f1_score, fbeta_score,accuracy_score\n",
    "%matplotlib inline\n",
    "from sklearn.model_selection import train_test_split\n",
    "from sklearn.ensemble import RandomForestClassifier\n",
    "from sklearn.neighbors import KNeighborsClassifier\n",
    "from sklearn.linear_model import LogisticRegression\n",
    "from sklearn.metrics import accuracy_score\n",
    "from imblearn.over_sampling import SMOTE\n",
    "from sklearn.metrics import ConfusionMatrixDisplay\n",
    "from sklearn.metrics import confusion_matrix\n",
    "from sklearn.metrics import (accuracy_score, log_loss, classification_report)"
   ]
  },
  {
   "cell_type": "code",
   "source": [
    "from google.colab import drive\n",
    "drive.mount('/content/drive')"
   ],
   "metadata": {
    "colab": {
     "base_uri": "https://localhost:8080/"
    },
    "id": "1H95K-SwPiC7",
    "outputId": "468321b3-0ced-4317-f78d-18e7f312457f",
    "pycharm": {
     "name": "#%%\n"
    }
   },
   "execution_count": 420,
   "outputs": [
    {
     "output_type": "stream",
     "name": "stdout",
     "text": [
      "Drive already mounted at /content/drive; to attempt to forcibly remount, call drive.mount(\"/content/drive\", force_remount=True).\n"
     ]
    }
   ]
  },
  {
   "cell_type": "code",
   "source": [
    "data = pd.read_csv(\"/content/drive/My Drive/dataset/diabetes_binary_5050split_health_indicators_BRFSS2015.csv\")\n",
    "data"
   ],
   "metadata": {
    "colab": {
     "base_uri": "https://localhost:8080/",
     "height": 424
    },
    "id": "G6KI2_SCU2yQ",
    "outputId": "15735a11-9fc5-40f2-d0cb-eddcab333206",
    "pycharm": {
     "name": "#%%\n"
    }
   },
   "execution_count": 421,
   "outputs": [
    {
     "output_type": "execute_result",
     "data": {
      "text/plain": [
       "       Diabetes_binary  HighBP  HighChol  CholCheck   BMI  Smoker  Stroke  \\\n",
       "0                  0.0     1.0       0.0        1.0  26.0     0.0     0.0   \n",
       "1                  0.0     1.0       1.0        1.0  26.0     1.0     1.0   \n",
       "2                  0.0     0.0       0.0        1.0  26.0     0.0     0.0   \n",
       "3                  0.0     1.0       1.0        1.0  28.0     1.0     0.0   \n",
       "4                  0.0     0.0       0.0        1.0  29.0     1.0     0.0   \n",
       "...                ...     ...       ...        ...   ...     ...     ...   \n",
       "70687              1.0     0.0       1.0        1.0  37.0     0.0     0.0   \n",
       "70688              1.0     0.0       1.0        1.0  29.0     1.0     0.0   \n",
       "70689              1.0     1.0       1.0        1.0  25.0     0.0     0.0   \n",
       "70690              1.0     1.0       1.0        1.0  18.0     0.0     0.0   \n",
       "70691              1.0     1.0       1.0        1.0  25.0     0.0     0.0   \n",
       "\n",
       "       HeartDiseaseorAttack  PhysActivity  Fruits  ...  AnyHealthcare  \\\n",
       "0                       0.0           1.0     0.0  ...            1.0   \n",
       "1                       0.0           0.0     1.0  ...            1.0   \n",
       "2                       0.0           1.0     1.0  ...            1.0   \n",
       "3                       0.0           1.0     1.0  ...            1.0   \n",
       "4                       0.0           1.0     1.0  ...            1.0   \n",
       "...                     ...           ...     ...  ...            ...   \n",
       "70687                   0.0           0.0     0.0  ...            1.0   \n",
       "70688                   1.0           0.0     1.0  ...            1.0   \n",
       "70689                   1.0           0.0     1.0  ...            1.0   \n",
       "70690                   0.0           0.0     0.0  ...            1.0   \n",
       "70691                   1.0           1.0     1.0  ...            1.0   \n",
       "\n",
       "       NoDocbcCost  GenHlth  MentHlth  PhysHlth  DiffWalk  Sex   Age  \\\n",
       "0              0.0      3.0       5.0      30.0       0.0  1.0   4.0   \n",
       "1              0.0      3.0       0.0       0.0       0.0  1.0  12.0   \n",
       "2              0.0      1.0       0.0      10.0       0.0  1.0  13.0   \n",
       "3              0.0      3.0       0.0       3.0       0.0  1.0  11.0   \n",
       "4              0.0      2.0       0.0       0.0       0.0  0.0   8.0   \n",
       "...            ...      ...       ...       ...       ...  ...   ...   \n",
       "70687          0.0      4.0       0.0       0.0       0.0  0.0   6.0   \n",
       "70688          0.0      2.0       0.0       0.0       1.0  1.0  10.0   \n",
       "70689          0.0      5.0      15.0       0.0       1.0  0.0  13.0   \n",
       "70690          0.0      4.0       0.0       0.0       1.0  0.0  11.0   \n",
       "70691          0.0      2.0       0.0       0.0       0.0  0.0   9.0   \n",
       "\n",
       "       Education  Income  \n",
       "0            6.0     8.0  \n",
       "1            6.0     8.0  \n",
       "2            6.0     8.0  \n",
       "3            6.0     8.0  \n",
       "4            5.0     8.0  \n",
       "...          ...     ...  \n",
       "70687        4.0     1.0  \n",
       "70688        3.0     6.0  \n",
       "70689        6.0     4.0  \n",
       "70690        2.0     4.0  \n",
       "70691        6.0     2.0  \n",
       "\n",
       "[70692 rows x 22 columns]"
      ],
      "text/html": [
       "\n",
       "  <div id=\"df-fa4a7872-525e-4fad-9364-ff3d6dc03ce3\">\n",
       "    <div class=\"colab-df-container\">\n",
       "      <div>\n",
       "<style scoped>\n",
       "    .dataframe tbody tr th:only-of-type {\n",
       "        vertical-align: middle;\n",
       "    }\n",
       "\n",
       "    .dataframe tbody tr th {\n",
       "        vertical-align: top;\n",
       "    }\n",
       "\n",
       "    .dataframe thead th {\n",
       "        text-align: right;\n",
       "    }\n",
       "</style>\n",
       "<table border=\"1\" class=\"dataframe\">\n",
       "  <thead>\n",
       "    <tr style=\"text-align: right;\">\n",
       "      <th></th>\n",
       "      <th>Diabetes_binary</th>\n",
       "      <th>HighBP</th>\n",
       "      <th>HighChol</th>\n",
       "      <th>CholCheck</th>\n",
       "      <th>BMI</th>\n",
       "      <th>Smoker</th>\n",
       "      <th>Stroke</th>\n",
       "      <th>HeartDiseaseorAttack</th>\n",
       "      <th>PhysActivity</th>\n",
       "      <th>Fruits</th>\n",
       "      <th>...</th>\n",
       "      <th>AnyHealthcare</th>\n",
       "      <th>NoDocbcCost</th>\n",
       "      <th>GenHlth</th>\n",
       "      <th>MentHlth</th>\n",
       "      <th>PhysHlth</th>\n",
       "      <th>DiffWalk</th>\n",
       "      <th>Sex</th>\n",
       "      <th>Age</th>\n",
       "      <th>Education</th>\n",
       "      <th>Income</th>\n",
       "    </tr>\n",
       "  </thead>\n",
       "  <tbody>\n",
       "    <tr>\n",
       "      <th>0</th>\n",
       "      <td>0.0</td>\n",
       "      <td>1.0</td>\n",
       "      <td>0.0</td>\n",
       "      <td>1.0</td>\n",
       "      <td>26.0</td>\n",
       "      <td>0.0</td>\n",
       "      <td>0.0</td>\n",
       "      <td>0.0</td>\n",
       "      <td>1.0</td>\n",
       "      <td>0.0</td>\n",
       "      <td>...</td>\n",
       "      <td>1.0</td>\n",
       "      <td>0.0</td>\n",
       "      <td>3.0</td>\n",
       "      <td>5.0</td>\n",
       "      <td>30.0</td>\n",
       "      <td>0.0</td>\n",
       "      <td>1.0</td>\n",
       "      <td>4.0</td>\n",
       "      <td>6.0</td>\n",
       "      <td>8.0</td>\n",
       "    </tr>\n",
       "    <tr>\n",
       "      <th>1</th>\n",
       "      <td>0.0</td>\n",
       "      <td>1.0</td>\n",
       "      <td>1.0</td>\n",
       "      <td>1.0</td>\n",
       "      <td>26.0</td>\n",
       "      <td>1.0</td>\n",
       "      <td>1.0</td>\n",
       "      <td>0.0</td>\n",
       "      <td>0.0</td>\n",
       "      <td>1.0</td>\n",
       "      <td>...</td>\n",
       "      <td>1.0</td>\n",
       "      <td>0.0</td>\n",
       "      <td>3.0</td>\n",
       "      <td>0.0</td>\n",
       "      <td>0.0</td>\n",
       "      <td>0.0</td>\n",
       "      <td>1.0</td>\n",
       "      <td>12.0</td>\n",
       "      <td>6.0</td>\n",
       "      <td>8.0</td>\n",
       "    </tr>\n",
       "    <tr>\n",
       "      <th>2</th>\n",
       "      <td>0.0</td>\n",
       "      <td>0.0</td>\n",
       "      <td>0.0</td>\n",
       "      <td>1.0</td>\n",
       "      <td>26.0</td>\n",
       "      <td>0.0</td>\n",
       "      <td>0.0</td>\n",
       "      <td>0.0</td>\n",
       "      <td>1.0</td>\n",
       "      <td>1.0</td>\n",
       "      <td>...</td>\n",
       "      <td>1.0</td>\n",
       "      <td>0.0</td>\n",
       "      <td>1.0</td>\n",
       "      <td>0.0</td>\n",
       "      <td>10.0</td>\n",
       "      <td>0.0</td>\n",
       "      <td>1.0</td>\n",
       "      <td>13.0</td>\n",
       "      <td>6.0</td>\n",
       "      <td>8.0</td>\n",
       "    </tr>\n",
       "    <tr>\n",
       "      <th>3</th>\n",
       "      <td>0.0</td>\n",
       "      <td>1.0</td>\n",
       "      <td>1.0</td>\n",
       "      <td>1.0</td>\n",
       "      <td>28.0</td>\n",
       "      <td>1.0</td>\n",
       "      <td>0.0</td>\n",
       "      <td>0.0</td>\n",
       "      <td>1.0</td>\n",
       "      <td>1.0</td>\n",
       "      <td>...</td>\n",
       "      <td>1.0</td>\n",
       "      <td>0.0</td>\n",
       "      <td>3.0</td>\n",
       "      <td>0.0</td>\n",
       "      <td>3.0</td>\n",
       "      <td>0.0</td>\n",
       "      <td>1.0</td>\n",
       "      <td>11.0</td>\n",
       "      <td>6.0</td>\n",
       "      <td>8.0</td>\n",
       "    </tr>\n",
       "    <tr>\n",
       "      <th>4</th>\n",
       "      <td>0.0</td>\n",
       "      <td>0.0</td>\n",
       "      <td>0.0</td>\n",
       "      <td>1.0</td>\n",
       "      <td>29.0</td>\n",
       "      <td>1.0</td>\n",
       "      <td>0.0</td>\n",
       "      <td>0.0</td>\n",
       "      <td>1.0</td>\n",
       "      <td>1.0</td>\n",
       "      <td>...</td>\n",
       "      <td>1.0</td>\n",
       "      <td>0.0</td>\n",
       "      <td>2.0</td>\n",
       "      <td>0.0</td>\n",
       "      <td>0.0</td>\n",
       "      <td>0.0</td>\n",
       "      <td>0.0</td>\n",
       "      <td>8.0</td>\n",
       "      <td>5.0</td>\n",
       "      <td>8.0</td>\n",
       "    </tr>\n",
       "    <tr>\n",
       "      <th>...</th>\n",
       "      <td>...</td>\n",
       "      <td>...</td>\n",
       "      <td>...</td>\n",
       "      <td>...</td>\n",
       "      <td>...</td>\n",
       "      <td>...</td>\n",
       "      <td>...</td>\n",
       "      <td>...</td>\n",
       "      <td>...</td>\n",
       "      <td>...</td>\n",
       "      <td>...</td>\n",
       "      <td>...</td>\n",
       "      <td>...</td>\n",
       "      <td>...</td>\n",
       "      <td>...</td>\n",
       "      <td>...</td>\n",
       "      <td>...</td>\n",
       "      <td>...</td>\n",
       "      <td>...</td>\n",
       "      <td>...</td>\n",
       "      <td>...</td>\n",
       "    </tr>\n",
       "    <tr>\n",
       "      <th>70687</th>\n",
       "      <td>1.0</td>\n",
       "      <td>0.0</td>\n",
       "      <td>1.0</td>\n",
       "      <td>1.0</td>\n",
       "      <td>37.0</td>\n",
       "      <td>0.0</td>\n",
       "      <td>0.0</td>\n",
       "      <td>0.0</td>\n",
       "      <td>0.0</td>\n",
       "      <td>0.0</td>\n",
       "      <td>...</td>\n",
       "      <td>1.0</td>\n",
       "      <td>0.0</td>\n",
       "      <td>4.0</td>\n",
       "      <td>0.0</td>\n",
       "      <td>0.0</td>\n",
       "      <td>0.0</td>\n",
       "      <td>0.0</td>\n",
       "      <td>6.0</td>\n",
       "      <td>4.0</td>\n",
       "      <td>1.0</td>\n",
       "    </tr>\n",
       "    <tr>\n",
       "      <th>70688</th>\n",
       "      <td>1.0</td>\n",
       "      <td>0.0</td>\n",
       "      <td>1.0</td>\n",
       "      <td>1.0</td>\n",
       "      <td>29.0</td>\n",
       "      <td>1.0</td>\n",
       "      <td>0.0</td>\n",
       "      <td>1.0</td>\n",
       "      <td>0.0</td>\n",
       "      <td>1.0</td>\n",
       "      <td>...</td>\n",
       "      <td>1.0</td>\n",
       "      <td>0.0</td>\n",
       "      <td>2.0</td>\n",
       "      <td>0.0</td>\n",
       "      <td>0.0</td>\n",
       "      <td>1.0</td>\n",
       "      <td>1.0</td>\n",
       "      <td>10.0</td>\n",
       "      <td>3.0</td>\n",
       "      <td>6.0</td>\n",
       "    </tr>\n",
       "    <tr>\n",
       "      <th>70689</th>\n",
       "      <td>1.0</td>\n",
       "      <td>1.0</td>\n",
       "      <td>1.0</td>\n",
       "      <td>1.0</td>\n",
       "      <td>25.0</td>\n",
       "      <td>0.0</td>\n",
       "      <td>0.0</td>\n",
       "      <td>1.0</td>\n",
       "      <td>0.0</td>\n",
       "      <td>1.0</td>\n",
       "      <td>...</td>\n",
       "      <td>1.0</td>\n",
       "      <td>0.0</td>\n",
       "      <td>5.0</td>\n",
       "      <td>15.0</td>\n",
       "      <td>0.0</td>\n",
       "      <td>1.0</td>\n",
       "      <td>0.0</td>\n",
       "      <td>13.0</td>\n",
       "      <td>6.0</td>\n",
       "      <td>4.0</td>\n",
       "    </tr>\n",
       "    <tr>\n",
       "      <th>70690</th>\n",
       "      <td>1.0</td>\n",
       "      <td>1.0</td>\n",
       "      <td>1.0</td>\n",
       "      <td>1.0</td>\n",
       "      <td>18.0</td>\n",
       "      <td>0.0</td>\n",
       "      <td>0.0</td>\n",
       "      <td>0.0</td>\n",
       "      <td>0.0</td>\n",
       "      <td>0.0</td>\n",
       "      <td>...</td>\n",
       "      <td>1.0</td>\n",
       "      <td>0.0</td>\n",
       "      <td>4.0</td>\n",
       "      <td>0.0</td>\n",
       "      <td>0.0</td>\n",
       "      <td>1.0</td>\n",
       "      <td>0.0</td>\n",
       "      <td>11.0</td>\n",
       "      <td>2.0</td>\n",
       "      <td>4.0</td>\n",
       "    </tr>\n",
       "    <tr>\n",
       "      <th>70691</th>\n",
       "      <td>1.0</td>\n",
       "      <td>1.0</td>\n",
       "      <td>1.0</td>\n",
       "      <td>1.0</td>\n",
       "      <td>25.0</td>\n",
       "      <td>0.0</td>\n",
       "      <td>0.0</td>\n",
       "      <td>1.0</td>\n",
       "      <td>1.0</td>\n",
       "      <td>1.0</td>\n",
       "      <td>...</td>\n",
       "      <td>1.0</td>\n",
       "      <td>0.0</td>\n",
       "      <td>2.0</td>\n",
       "      <td>0.0</td>\n",
       "      <td>0.0</td>\n",
       "      <td>0.0</td>\n",
       "      <td>0.0</td>\n",
       "      <td>9.0</td>\n",
       "      <td>6.0</td>\n",
       "      <td>2.0</td>\n",
       "    </tr>\n",
       "  </tbody>\n",
       "</table>\n",
       "<p>70692 rows × 22 columns</p>\n",
       "</div>\n",
       "      <button class=\"colab-df-convert\" onclick=\"convertToInteractive('df-fa4a7872-525e-4fad-9364-ff3d6dc03ce3')\"\n",
       "              title=\"Convert this dataframe to an interactive table.\"\n",
       "              style=\"display:none;\">\n",
       "        \n",
       "  <svg xmlns=\"http://www.w3.org/2000/svg\" height=\"24px\"viewBox=\"0 0 24 24\"\n",
       "       width=\"24px\">\n",
       "    <path d=\"M0 0h24v24H0V0z\" fill=\"none\"/>\n",
       "    <path d=\"M18.56 5.44l.94 2.06.94-2.06 2.06-.94-2.06-.94-.94-2.06-.94 2.06-2.06.94zm-11 1L8.5 8.5l.94-2.06 2.06-.94-2.06-.94L8.5 2.5l-.94 2.06-2.06.94zm10 10l.94 2.06.94-2.06 2.06-.94-2.06-.94-.94-2.06-.94 2.06-2.06.94z\"/><path d=\"M17.41 7.96l-1.37-1.37c-.4-.4-.92-.59-1.43-.59-.52 0-1.04.2-1.43.59L10.3 9.45l-7.72 7.72c-.78.78-.78 2.05 0 2.83L4 21.41c.39.39.9.59 1.41.59.51 0 1.02-.2 1.41-.59l7.78-7.78 2.81-2.81c.8-.78.8-2.07 0-2.86zM5.41 20L4 18.59l7.72-7.72 1.47 1.35L5.41 20z\"/>\n",
       "  </svg>\n",
       "      </button>\n",
       "      \n",
       "  <style>\n",
       "    .colab-df-container {\n",
       "      display:flex;\n",
       "      flex-wrap:wrap;\n",
       "      gap: 12px;\n",
       "    }\n",
       "\n",
       "    .colab-df-convert {\n",
       "      background-color: #E8F0FE;\n",
       "      border: none;\n",
       "      border-radius: 50%;\n",
       "      cursor: pointer;\n",
       "      display: none;\n",
       "      fill: #1967D2;\n",
       "      height: 32px;\n",
       "      padding: 0 0 0 0;\n",
       "      width: 32px;\n",
       "    }\n",
       "\n",
       "    .colab-df-convert:hover {\n",
       "      background-color: #E2EBFA;\n",
       "      box-shadow: 0px 1px 2px rgba(60, 64, 67, 0.3), 0px 1px 3px 1px rgba(60, 64, 67, 0.15);\n",
       "      fill: #174EA6;\n",
       "    }\n",
       "\n",
       "    [theme=dark] .colab-df-convert {\n",
       "      background-color: #3B4455;\n",
       "      fill: #D2E3FC;\n",
       "    }\n",
       "\n",
       "    [theme=dark] .colab-df-convert:hover {\n",
       "      background-color: #434B5C;\n",
       "      box-shadow: 0px 1px 3px 1px rgba(0, 0, 0, 0.15);\n",
       "      filter: drop-shadow(0px 1px 2px rgba(0, 0, 0, 0.3));\n",
       "      fill: #FFFFFF;\n",
       "    }\n",
       "  </style>\n",
       "\n",
       "      <script>\n",
       "        const buttonEl =\n",
       "          document.querySelector('#df-fa4a7872-525e-4fad-9364-ff3d6dc03ce3 button.colab-df-convert');\n",
       "        buttonEl.style.display =\n",
       "          google.colab.kernel.accessAllowed ? 'block' : 'none';\n",
       "\n",
       "        async function convertToInteractive(key) {\n",
       "          const element = document.querySelector('#df-fa4a7872-525e-4fad-9364-ff3d6dc03ce3');\n",
       "          const dataTable =\n",
       "            await google.colab.kernel.invokeFunction('convertToInteractive',\n",
       "                                                     [key], {});\n",
       "          if (!dataTable) return;\n",
       "\n",
       "          const docLinkHtml = 'Like what you see? Visit the ' +\n",
       "            '<a target=\"_blank\" href=https://colab.research.google.com/notebooks/data_table.ipynb>data table notebook</a>'\n",
       "            + ' to learn more about interactive tables.';\n",
       "          element.innerHTML = '';\n",
       "          dataTable['output_type'] = 'display_data';\n",
       "          await google.colab.output.renderOutput(dataTable, element);\n",
       "          const docLink = document.createElement('div');\n",
       "          docLink.innerHTML = docLinkHtml;\n",
       "          element.appendChild(docLink);\n",
       "        }\n",
       "      </script>\n",
       "    </div>\n",
       "  </div>\n",
       "  "
      ]
     },
     "metadata": {},
     "execution_count": 421
    }
   ]
  },
  {
   "cell_type": "code",
   "source": [
    "data.shape"
   ],
   "metadata": {
    "colab": {
     "base_uri": "https://localhost:8080/"
    },
    "id": "CwMsBVwMWJiw",
    "outputId": "01d955c5-e712-42a2-dd3f-febb7a53ef1d",
    "pycharm": {
     "name": "#%%\n"
    }
   },
   "execution_count": 422,
   "outputs": [
    {
     "output_type": "execute_result",
     "data": {
      "text/plain": [
       "(70692, 22)"
      ]
     },
     "metadata": {},
     "execution_count": 422
    }
   ]
  },
  {
   "cell_type": "code",
   "source": [
    "data.info()"
   ],
   "metadata": {
    "colab": {
     "base_uri": "https://localhost:8080/"
    },
    "id": "QewA9ed8WKKr",
    "outputId": "dc5945a2-e0e6-4cef-eddd-06c5c87aea74",
    "pycharm": {
     "name": "#%%\n"
    }
   },
   "execution_count": 423,
   "outputs": [
    {
     "output_type": "stream",
     "name": "stdout",
     "text": [
      "<class 'pandas.core.frame.DataFrame'>\n",
      "RangeIndex: 70692 entries, 0 to 70691\n",
      "Data columns (total 22 columns):\n",
      " #   Column                Non-Null Count  Dtype  \n",
      "---  ------                --------------  -----  \n",
      " 0   Diabetes_binary       70692 non-null  float64\n",
      " 1   HighBP                70692 non-null  float64\n",
      " 2   HighChol              70692 non-null  float64\n",
      " 3   CholCheck             70692 non-null  float64\n",
      " 4   BMI                   70692 non-null  float64\n",
      " 5   Smoker                70692 non-null  float64\n",
      " 6   Stroke                70692 non-null  float64\n",
      " 7   HeartDiseaseorAttack  70692 non-null  float64\n",
      " 8   PhysActivity          70692 non-null  float64\n",
      " 9   Fruits                70692 non-null  float64\n",
      " 10  Veggies               70692 non-null  float64\n",
      " 11  HvyAlcoholConsump     70692 non-null  float64\n",
      " 12  AnyHealthcare         70692 non-null  float64\n",
      " 13  NoDocbcCost           70692 non-null  float64\n",
      " 14  GenHlth               70692 non-null  float64\n",
      " 15  MentHlth              70692 non-null  float64\n",
      " 16  PhysHlth              70692 non-null  float64\n",
      " 17  DiffWalk              70692 non-null  float64\n",
      " 18  Sex                   70692 non-null  float64\n",
      " 19  Age                   70692 non-null  float64\n",
      " 20  Education             70692 non-null  float64\n",
      " 21  Income                70692 non-null  float64\n",
      "dtypes: float64(22)\n",
      "memory usage: 11.9 MB\n"
     ]
    }
   ]
  },
  {
   "cell_type": "code",
   "source": [
    "data.describe()"
   ],
   "metadata": {
    "colab": {
     "base_uri": "https://localhost:8080/",
     "height": 394
    },
    "id": "qWz9MoigWLiG",
    "outputId": "eb531425-2bdb-416e-a7b8-a01f9b9fc3bd",
    "pycharm": {
     "name": "#%%\n"
    }
   },
   "execution_count": 424,
   "outputs": [
    {
     "output_type": "execute_result",
     "data": {
      "text/plain": [
       "       Diabetes_binary        HighBP      HighChol     CholCheck  \\\n",
       "count     70692.000000  70692.000000  70692.000000  70692.000000   \n",
       "mean          0.500000      0.563458      0.525703      0.975259   \n",
       "std           0.500004      0.495960      0.499342      0.155336   \n",
       "min           0.000000      0.000000      0.000000      0.000000   \n",
       "25%           0.000000      0.000000      0.000000      1.000000   \n",
       "50%           0.500000      1.000000      1.000000      1.000000   \n",
       "75%           1.000000      1.000000      1.000000      1.000000   \n",
       "max           1.000000      1.000000      1.000000      1.000000   \n",
       "\n",
       "                BMI        Smoker        Stroke  HeartDiseaseorAttack  \\\n",
       "count  70692.000000  70692.000000  70692.000000          70692.000000   \n",
       "mean      29.856985      0.475273      0.062171              0.147810   \n",
       "std        7.113954      0.499392      0.241468              0.354914   \n",
       "min       12.000000      0.000000      0.000000              0.000000   \n",
       "25%       25.000000      0.000000      0.000000              0.000000   \n",
       "50%       29.000000      0.000000      0.000000              0.000000   \n",
       "75%       33.000000      1.000000      0.000000              0.000000   \n",
       "max       98.000000      1.000000      1.000000              1.000000   \n",
       "\n",
       "       PhysActivity        Fruits  ...  AnyHealthcare   NoDocbcCost  \\\n",
       "count  70692.000000  70692.000000  ...   70692.000000  70692.000000   \n",
       "mean       0.703036      0.611795  ...       0.954960      0.093914   \n",
       "std        0.456924      0.487345  ...       0.207394      0.291712   \n",
       "min        0.000000      0.000000  ...       0.000000      0.000000   \n",
       "25%        0.000000      0.000000  ...       1.000000      0.000000   \n",
       "50%        1.000000      1.000000  ...       1.000000      0.000000   \n",
       "75%        1.000000      1.000000  ...       1.000000      0.000000   \n",
       "max        1.000000      1.000000  ...       1.000000      1.000000   \n",
       "\n",
       "            GenHlth      MentHlth      PhysHlth      DiffWalk           Sex  \\\n",
       "count  70692.000000  70692.000000  70692.000000  70692.000000  70692.000000   \n",
       "mean       2.837082      3.752037      5.810417      0.252730      0.456997   \n",
       "std        1.113565      8.155627     10.062261      0.434581      0.498151   \n",
       "min        1.000000      0.000000      0.000000      0.000000      0.000000   \n",
       "25%        2.000000      0.000000      0.000000      0.000000      0.000000   \n",
       "50%        3.000000      0.000000      0.000000      0.000000      0.000000   \n",
       "75%        4.000000      2.000000      6.000000      1.000000      1.000000   \n",
       "max        5.000000     30.000000     30.000000      1.000000      1.000000   \n",
       "\n",
       "                Age     Education        Income  \n",
       "count  70692.000000  70692.000000  70692.000000  \n",
       "mean       8.584055      4.920953      5.698311  \n",
       "std        2.852153      1.029081      2.175196  \n",
       "min        1.000000      1.000000      1.000000  \n",
       "25%        7.000000      4.000000      4.000000  \n",
       "50%        9.000000      5.000000      6.000000  \n",
       "75%       11.000000      6.000000      8.000000  \n",
       "max       13.000000      6.000000      8.000000  \n",
       "\n",
       "[8 rows x 22 columns]"
      ],
      "text/html": [
       "\n",
       "  <div id=\"df-9db6949b-e2a0-4ee5-8bed-51af22c2ccd6\">\n",
       "    <div class=\"colab-df-container\">\n",
       "      <div>\n",
       "<style scoped>\n",
       "    .dataframe tbody tr th:only-of-type {\n",
       "        vertical-align: middle;\n",
       "    }\n",
       "\n",
       "    .dataframe tbody tr th {\n",
       "        vertical-align: top;\n",
       "    }\n",
       "\n",
       "    .dataframe thead th {\n",
       "        text-align: right;\n",
       "    }\n",
       "</style>\n",
       "<table border=\"1\" class=\"dataframe\">\n",
       "  <thead>\n",
       "    <tr style=\"text-align: right;\">\n",
       "      <th></th>\n",
       "      <th>Diabetes_binary</th>\n",
       "      <th>HighBP</th>\n",
       "      <th>HighChol</th>\n",
       "      <th>CholCheck</th>\n",
       "      <th>BMI</th>\n",
       "      <th>Smoker</th>\n",
       "      <th>Stroke</th>\n",
       "      <th>HeartDiseaseorAttack</th>\n",
       "      <th>PhysActivity</th>\n",
       "      <th>Fruits</th>\n",
       "      <th>...</th>\n",
       "      <th>AnyHealthcare</th>\n",
       "      <th>NoDocbcCost</th>\n",
       "      <th>GenHlth</th>\n",
       "      <th>MentHlth</th>\n",
       "      <th>PhysHlth</th>\n",
       "      <th>DiffWalk</th>\n",
       "      <th>Sex</th>\n",
       "      <th>Age</th>\n",
       "      <th>Education</th>\n",
       "      <th>Income</th>\n",
       "    </tr>\n",
       "  </thead>\n",
       "  <tbody>\n",
       "    <tr>\n",
       "      <th>count</th>\n",
       "      <td>70692.000000</td>\n",
       "      <td>70692.000000</td>\n",
       "      <td>70692.000000</td>\n",
       "      <td>70692.000000</td>\n",
       "      <td>70692.000000</td>\n",
       "      <td>70692.000000</td>\n",
       "      <td>70692.000000</td>\n",
       "      <td>70692.000000</td>\n",
       "      <td>70692.000000</td>\n",
       "      <td>70692.000000</td>\n",
       "      <td>...</td>\n",
       "      <td>70692.000000</td>\n",
       "      <td>70692.000000</td>\n",
       "      <td>70692.000000</td>\n",
       "      <td>70692.000000</td>\n",
       "      <td>70692.000000</td>\n",
       "      <td>70692.000000</td>\n",
       "      <td>70692.000000</td>\n",
       "      <td>70692.000000</td>\n",
       "      <td>70692.000000</td>\n",
       "      <td>70692.000000</td>\n",
       "    </tr>\n",
       "    <tr>\n",
       "      <th>mean</th>\n",
       "      <td>0.500000</td>\n",
       "      <td>0.563458</td>\n",
       "      <td>0.525703</td>\n",
       "      <td>0.975259</td>\n",
       "      <td>29.856985</td>\n",
       "      <td>0.475273</td>\n",
       "      <td>0.062171</td>\n",
       "      <td>0.147810</td>\n",
       "      <td>0.703036</td>\n",
       "      <td>0.611795</td>\n",
       "      <td>...</td>\n",
       "      <td>0.954960</td>\n",
       "      <td>0.093914</td>\n",
       "      <td>2.837082</td>\n",
       "      <td>3.752037</td>\n",
       "      <td>5.810417</td>\n",
       "      <td>0.252730</td>\n",
       "      <td>0.456997</td>\n",
       "      <td>8.584055</td>\n",
       "      <td>4.920953</td>\n",
       "      <td>5.698311</td>\n",
       "    </tr>\n",
       "    <tr>\n",
       "      <th>std</th>\n",
       "      <td>0.500004</td>\n",
       "      <td>0.495960</td>\n",
       "      <td>0.499342</td>\n",
       "      <td>0.155336</td>\n",
       "      <td>7.113954</td>\n",
       "      <td>0.499392</td>\n",
       "      <td>0.241468</td>\n",
       "      <td>0.354914</td>\n",
       "      <td>0.456924</td>\n",
       "      <td>0.487345</td>\n",
       "      <td>...</td>\n",
       "      <td>0.207394</td>\n",
       "      <td>0.291712</td>\n",
       "      <td>1.113565</td>\n",
       "      <td>8.155627</td>\n",
       "      <td>10.062261</td>\n",
       "      <td>0.434581</td>\n",
       "      <td>0.498151</td>\n",
       "      <td>2.852153</td>\n",
       "      <td>1.029081</td>\n",
       "      <td>2.175196</td>\n",
       "    </tr>\n",
       "    <tr>\n",
       "      <th>min</th>\n",
       "      <td>0.000000</td>\n",
       "      <td>0.000000</td>\n",
       "      <td>0.000000</td>\n",
       "      <td>0.000000</td>\n",
       "      <td>12.000000</td>\n",
       "      <td>0.000000</td>\n",
       "      <td>0.000000</td>\n",
       "      <td>0.000000</td>\n",
       "      <td>0.000000</td>\n",
       "      <td>0.000000</td>\n",
       "      <td>...</td>\n",
       "      <td>0.000000</td>\n",
       "      <td>0.000000</td>\n",
       "      <td>1.000000</td>\n",
       "      <td>0.000000</td>\n",
       "      <td>0.000000</td>\n",
       "      <td>0.000000</td>\n",
       "      <td>0.000000</td>\n",
       "      <td>1.000000</td>\n",
       "      <td>1.000000</td>\n",
       "      <td>1.000000</td>\n",
       "    </tr>\n",
       "    <tr>\n",
       "      <th>25%</th>\n",
       "      <td>0.000000</td>\n",
       "      <td>0.000000</td>\n",
       "      <td>0.000000</td>\n",
       "      <td>1.000000</td>\n",
       "      <td>25.000000</td>\n",
       "      <td>0.000000</td>\n",
       "      <td>0.000000</td>\n",
       "      <td>0.000000</td>\n",
       "      <td>0.000000</td>\n",
       "      <td>0.000000</td>\n",
       "      <td>...</td>\n",
       "      <td>1.000000</td>\n",
       "      <td>0.000000</td>\n",
       "      <td>2.000000</td>\n",
       "      <td>0.000000</td>\n",
       "      <td>0.000000</td>\n",
       "      <td>0.000000</td>\n",
       "      <td>0.000000</td>\n",
       "      <td>7.000000</td>\n",
       "      <td>4.000000</td>\n",
       "      <td>4.000000</td>\n",
       "    </tr>\n",
       "    <tr>\n",
       "      <th>50%</th>\n",
       "      <td>0.500000</td>\n",
       "      <td>1.000000</td>\n",
       "      <td>1.000000</td>\n",
       "      <td>1.000000</td>\n",
       "      <td>29.000000</td>\n",
       "      <td>0.000000</td>\n",
       "      <td>0.000000</td>\n",
       "      <td>0.000000</td>\n",
       "      <td>1.000000</td>\n",
       "      <td>1.000000</td>\n",
       "      <td>...</td>\n",
       "      <td>1.000000</td>\n",
       "      <td>0.000000</td>\n",
       "      <td>3.000000</td>\n",
       "      <td>0.000000</td>\n",
       "      <td>0.000000</td>\n",
       "      <td>0.000000</td>\n",
       "      <td>0.000000</td>\n",
       "      <td>9.000000</td>\n",
       "      <td>5.000000</td>\n",
       "      <td>6.000000</td>\n",
       "    </tr>\n",
       "    <tr>\n",
       "      <th>75%</th>\n",
       "      <td>1.000000</td>\n",
       "      <td>1.000000</td>\n",
       "      <td>1.000000</td>\n",
       "      <td>1.000000</td>\n",
       "      <td>33.000000</td>\n",
       "      <td>1.000000</td>\n",
       "      <td>0.000000</td>\n",
       "      <td>0.000000</td>\n",
       "      <td>1.000000</td>\n",
       "      <td>1.000000</td>\n",
       "      <td>...</td>\n",
       "      <td>1.000000</td>\n",
       "      <td>0.000000</td>\n",
       "      <td>4.000000</td>\n",
       "      <td>2.000000</td>\n",
       "      <td>6.000000</td>\n",
       "      <td>1.000000</td>\n",
       "      <td>1.000000</td>\n",
       "      <td>11.000000</td>\n",
       "      <td>6.000000</td>\n",
       "      <td>8.000000</td>\n",
       "    </tr>\n",
       "    <tr>\n",
       "      <th>max</th>\n",
       "      <td>1.000000</td>\n",
       "      <td>1.000000</td>\n",
       "      <td>1.000000</td>\n",
       "      <td>1.000000</td>\n",
       "      <td>98.000000</td>\n",
       "      <td>1.000000</td>\n",
       "      <td>1.000000</td>\n",
       "      <td>1.000000</td>\n",
       "      <td>1.000000</td>\n",
       "      <td>1.000000</td>\n",
       "      <td>...</td>\n",
       "      <td>1.000000</td>\n",
       "      <td>1.000000</td>\n",
       "      <td>5.000000</td>\n",
       "      <td>30.000000</td>\n",
       "      <td>30.000000</td>\n",
       "      <td>1.000000</td>\n",
       "      <td>1.000000</td>\n",
       "      <td>13.000000</td>\n",
       "      <td>6.000000</td>\n",
       "      <td>8.000000</td>\n",
       "    </tr>\n",
       "  </tbody>\n",
       "</table>\n",
       "<p>8 rows × 22 columns</p>\n",
       "</div>\n",
       "      <button class=\"colab-df-convert\" onclick=\"convertToInteractive('df-9db6949b-e2a0-4ee5-8bed-51af22c2ccd6')\"\n",
       "              title=\"Convert this dataframe to an interactive table.\"\n",
       "              style=\"display:none;\">\n",
       "        \n",
       "  <svg xmlns=\"http://www.w3.org/2000/svg\" height=\"24px\"viewBox=\"0 0 24 24\"\n",
       "       width=\"24px\">\n",
       "    <path d=\"M0 0h24v24H0V0z\" fill=\"none\"/>\n",
       "    <path d=\"M18.56 5.44l.94 2.06.94-2.06 2.06-.94-2.06-.94-.94-2.06-.94 2.06-2.06.94zm-11 1L8.5 8.5l.94-2.06 2.06-.94-2.06-.94L8.5 2.5l-.94 2.06-2.06.94zm10 10l.94 2.06.94-2.06 2.06-.94-2.06-.94-.94-2.06-.94 2.06-2.06.94z\"/><path d=\"M17.41 7.96l-1.37-1.37c-.4-.4-.92-.59-1.43-.59-.52 0-1.04.2-1.43.59L10.3 9.45l-7.72 7.72c-.78.78-.78 2.05 0 2.83L4 21.41c.39.39.9.59 1.41.59.51 0 1.02-.2 1.41-.59l7.78-7.78 2.81-2.81c.8-.78.8-2.07 0-2.86zM5.41 20L4 18.59l7.72-7.72 1.47 1.35L5.41 20z\"/>\n",
       "  </svg>\n",
       "      </button>\n",
       "      \n",
       "  <style>\n",
       "    .colab-df-container {\n",
       "      display:flex;\n",
       "      flex-wrap:wrap;\n",
       "      gap: 12px;\n",
       "    }\n",
       "\n",
       "    .colab-df-convert {\n",
       "      background-color: #E8F0FE;\n",
       "      border: none;\n",
       "      border-radius: 50%;\n",
       "      cursor: pointer;\n",
       "      display: none;\n",
       "      fill: #1967D2;\n",
       "      height: 32px;\n",
       "      padding: 0 0 0 0;\n",
       "      width: 32px;\n",
       "    }\n",
       "\n",
       "    .colab-df-convert:hover {\n",
       "      background-color: #E2EBFA;\n",
       "      box-shadow: 0px 1px 2px rgba(60, 64, 67, 0.3), 0px 1px 3px 1px rgba(60, 64, 67, 0.15);\n",
       "      fill: #174EA6;\n",
       "    }\n",
       "\n",
       "    [theme=dark] .colab-df-convert {\n",
       "      background-color: #3B4455;\n",
       "      fill: #D2E3FC;\n",
       "    }\n",
       "\n",
       "    [theme=dark] .colab-df-convert:hover {\n",
       "      background-color: #434B5C;\n",
       "      box-shadow: 0px 1px 3px 1px rgba(0, 0, 0, 0.15);\n",
       "      filter: drop-shadow(0px 1px 2px rgba(0, 0, 0, 0.3));\n",
       "      fill: #FFFFFF;\n",
       "    }\n",
       "  </style>\n",
       "\n",
       "      <script>\n",
       "        const buttonEl =\n",
       "          document.querySelector('#df-9db6949b-e2a0-4ee5-8bed-51af22c2ccd6 button.colab-df-convert');\n",
       "        buttonEl.style.display =\n",
       "          google.colab.kernel.accessAllowed ? 'block' : 'none';\n",
       "\n",
       "        async function convertToInteractive(key) {\n",
       "          const element = document.querySelector('#df-9db6949b-e2a0-4ee5-8bed-51af22c2ccd6');\n",
       "          const dataTable =\n",
       "            await google.colab.kernel.invokeFunction('convertToInteractive',\n",
       "                                                     [key], {});\n",
       "          if (!dataTable) return;\n",
       "\n",
       "          const docLinkHtml = 'Like what you see? Visit the ' +\n",
       "            '<a target=\"_blank\" href=https://colab.research.google.com/notebooks/data_table.ipynb>data table notebook</a>'\n",
       "            + ' to learn more about interactive tables.';\n",
       "          element.innerHTML = '';\n",
       "          dataTable['output_type'] = 'display_data';\n",
       "          await google.colab.output.renderOutput(dataTable, element);\n",
       "          const docLink = document.createElement('div');\n",
       "          docLink.innerHTML = docLinkHtml;\n",
       "          element.appendChild(docLink);\n",
       "        }\n",
       "      </script>\n",
       "    </div>\n",
       "  </div>\n",
       "  "
      ]
     },
     "metadata": {},
     "execution_count": 424
    }
   ]
  },
  {
   "cell_type": "code",
   "source": [
    "data.isna().sum()"
   ],
   "metadata": {
    "colab": {
     "base_uri": "https://localhost:8080/"
    },
    "id": "lZv2zAt3WM55",
    "outputId": "bc15131c-223b-4d46-c04c-4947d4315886",
    "pycharm": {
     "name": "#%%\n"
    }
   },
   "execution_count": 425,
   "outputs": [
    {
     "output_type": "execute_result",
     "data": {
      "text/plain": [
       "Diabetes_binary         0\n",
       "HighBP                  0\n",
       "HighChol                0\n",
       "CholCheck               0\n",
       "BMI                     0\n",
       "Smoker                  0\n",
       "Stroke                  0\n",
       "HeartDiseaseorAttack    0\n",
       "PhysActivity            0\n",
       "Fruits                  0\n",
       "Veggies                 0\n",
       "HvyAlcoholConsump       0\n",
       "AnyHealthcare           0\n",
       "NoDocbcCost             0\n",
       "GenHlth                 0\n",
       "MentHlth                0\n",
       "PhysHlth                0\n",
       "DiffWalk                0\n",
       "Sex                     0\n",
       "Age                     0\n",
       "Education               0\n",
       "Income                  0\n",
       "dtype: int64"
      ]
     },
     "metadata": {},
     "execution_count": 425
    }
   ]
  },
  {
   "cell_type": "code",
   "source": [
    "data.columns"
   ],
   "metadata": {
    "colab": {
     "base_uri": "https://localhost:8080/"
    },
    "id": "FtBgMcPuWOaB",
    "outputId": "959c8950-514d-442e-fa54-dd9e4a744ef0",
    "pycharm": {
     "name": "#%%\n"
    }
   },
   "execution_count": 426,
   "outputs": [
    {
     "output_type": "execute_result",
     "data": {
      "text/plain": [
       "Index(['Diabetes_binary', 'HighBP', 'HighChol', 'CholCheck', 'BMI', 'Smoker',\n",
       "       'Stroke', 'HeartDiseaseorAttack', 'PhysActivity', 'Fruits', 'Veggies',\n",
       "       'HvyAlcoholConsump', 'AnyHealthcare', 'NoDocbcCost', 'GenHlth',\n",
       "       'MentHlth', 'PhysHlth', 'DiffWalk', 'Sex', 'Age', 'Education',\n",
       "       'Income'],\n",
       "      dtype='object')"
      ]
     },
     "metadata": {},
     "execution_count": 426
    }
   ]
  },
  {
   "cell_type": "code",
   "source": [
    "sns.boxplot(data=data['BMI'],orient=\"h\")"
   ],
   "metadata": {
    "colab": {
     "base_uri": "https://localhost:8080/",
     "height": 285
    },
    "id": "YD2vwOaQWR6D",
    "outputId": "6ecb4a0a-e3c1-41f3-f435-14ebd3478f16",
    "pycharm": {
     "name": "#%%\n"
    }
   },
   "execution_count": 427,
   "outputs": [
    {
     "output_type": "execute_result",
     "data": {
      "text/plain": [
       "<matplotlib.axes._subplots.AxesSubplot at 0x7f9b32e4d7d0>"
      ]
     },
     "metadata": {},
     "execution_count": 427
    },
    {
     "output_type": "display_data",
     "data": {
      "text/plain": [
       "<Figure size 432x288 with 1 Axes>"
      ],
      "image/png": "[encoded data removed]"
     },
     "metadata": {
      "needs_background": "light"
     }
    }
   ]
  },
  {
   "cell_type": "code",
   "source": [
    "corr_matrix = data.corr()\n",
    "plt.figure(figsize=(30,15))\n",
    "sns.heatmap(corr_matrix, annot=True)\n",
    "plt.show()"
   ],
   "metadata": {
    "id": "2rpNHt96U4Rp",
    "colab": {
     "base_uri": "https://localhost:8080/",
     "height": 981
    },
    "outputId": "aea67063-3536-4519-fd11-173ba877be3d",
    "pycharm": {
     "name": "#%%\n"
    }
   },
   "execution_count": 428,
   "outputs": [
    {
     "output_type": "display_data",
     "data": {
      "text/plain": [
       "<Figure size 2160x1080 with 2 Axes>"
      ],
      "image/png": "[encoded data removed]"
     },
     "metadata": {
      "needs_background": "light"
     }
    }
   ]
  },
  {
   "cell_type": "code",
   "source": [
    "corr_with_class=data.drop('Diabetes_binary', axis=1).corrwith(data.Diabetes_binary).sort_values()\n",
    "corr_with_class.plot(kind='barh', figsize=(10, 7))"
   ],
   "metadata": {
    "colab": {
     "base_uri": "https://localhost:8080/",
     "height": 448
    },
    "id": "DPpQf_JxXTvK",
    "outputId": "9a7b865f-8b81-42b8-c298-95ef22ac7208",
    "pycharm": {
     "name": "#%%\n"
    }
   },
   "execution_count": 429,
   "outputs": [
    {
     "output_type": "execute_result",
     "data": {
      "text/plain": [
       "<matplotlib.axes._subplots.AxesSubplot at 0x7f9b2f53ab10>"
      ]
     },
     "metadata": {},
     "execution_count": 429
    },
    {
     "output_type": "display_data",
     "data": {
      "text/plain": [
       "<Figure size 720x504 with 1 Axes>"
      ],
      "image/png": "[encoded data removed]"
     },
     "metadata": {
      "needs_background": "light"
     }
    }
   ]
  },
  {
   "cell_type": "markdown",
   "source": [
    "#Outliers analysis"
   ],
   "metadata": {
    "id": "OqgBi_I0oypS",
    "pycharm": {
     "name": "#%% md\n"
    }
   }
  },
  {
   "cell_type": "markdown",
   "source": [
    "detection"
   ],
   "metadata": {
    "id": "x_f1FfkgpMRd",
    "pycharm": {
     "name": "#%% md\n"
    }
   }
  },
  {
   "cell_type": "code",
   "source": [
    "# Q1 = data.quantile(0.25)\n",
    "# Q3 = data.quantile(0.75)\n",
    "# IQR = Q3 - Q1\n",
    "# print(IQR)"
   ],
   "metadata": {
    "id": "UV_2yD4qo1To",
    "pycharm": {
     "name": "#%%\n"
    }
   },
   "execution_count": 430,
   "outputs": []
  },
  {
   "cell_type": "markdown",
   "source": [
    "removal of outliers"
   ],
   "metadata": {
    "id": "bHgN_v8npNyn",
    "pycharm": {
     "name": "#%% md\n"
    }
   }
  },
  {
   "cell_type": "code",
   "source": [
    "# data1 = data[~((data < (Q1 - 1.5 * IQR)) |(data > (Q3 + 1.5 * IQR))).any(axis=1)]\n",
    "# data1.shape"
   ],
   "metadata": {
    "id": "-cWg5mbD3HkE",
    "pycharm": {
     "name": "#%%\n"
    }
   },
   "execution_count": 431,
   "outputs": []
  },
  {
   "cell_type": "markdown",
   "source": [
    "# Dropping Duplicates"
   ],
   "metadata": {
    "id": "-pOKlqKh4nHd",
    "pycharm": {
     "name": "#%% md\n"
    }
   }
  },
  {
   "cell_type": "code",
   "source": [
    "# dropping duplicate values\n",
    "data.drop_duplicates(keep=False,inplace=True)"
   ],
   "metadata": {
    "id": "TZ_G_g5Q4mk3",
    "pycharm": {
     "name": "#%%\n"
    }
   },
   "execution_count": 432,
   "outputs": []
  },
  {
   "cell_type": "markdown",
   "source": [
    "# Normalization"
   ],
   "metadata": {
    "id": "QJDpmyDjECiv",
    "pycharm": {
     "name": "#%% md\n"
    }
   }
  },
  {
   "cell_type": "code",
   "source": [
    "feature_names=data.columns\n",
    "feature_names=feature_names.values\n",
    "feature_names=np.delete(feature_names,0)\n",
    "feature_names"
   ],
   "metadata": {
    "colab": {
     "base_uri": "https://localhost:8080/"
    },
    "id": "SgVTJ7-HEBT9",
    "outputId": "5e8fe184-0190-4f8d-a0b5-599711a37625",
    "pycharm": {
     "name": "#%%\n"
    }
   },
   "execution_count": 433,
   "outputs": [
    {
     "output_type": "execute_result",
     "data": {
      "text/plain": [
       "array(['HighBP', 'HighChol', 'CholCheck', 'BMI', 'Smoker', 'Stroke',\n",
       "       'HeartDiseaseorAttack', 'PhysActivity', 'Fruits', 'Veggies',\n",
       "       'HvyAlcoholConsump', 'AnyHealthcare', 'NoDocbcCost', 'GenHlth',\n",
       "       'MentHlth', 'PhysHlth', 'DiffWalk', 'Sex', 'Age', 'Education',\n",
       "       'Income'], dtype=object)"
      ]
     },
     "metadata": {},
     "execution_count": 433
    }
   ]
  },
  {
   "cell_type": "code",
   "source": [
    "type(feature_names)"
   ],
   "metadata": {
    "colab": {
     "base_uri": "https://localhost:8080/"
    },
    "id": "aOF42OOFM3FX",
    "outputId": "8ca3f2ba-4e3f-4617-9bd4-219aa784a7b1",
    "pycharm": {
     "name": "#%%\n"
    }
   },
   "execution_count": 434,
   "outputs": [
    {
     "output_type": "execute_result",
     "data": {
      "text/plain": [
       "numpy.ndarray"
      ]
     },
     "metadata": {},
     "execution_count": 434
    }
   ]
  },
  {
   "cell_type": "code",
   "source": [
    "for feature_name in feature_names:\n",
    "    data[feature_name] = (data[feature_name]- data[feature_name].mean()) / data[feature_name].std()\n",
    "data"
   ],
   "metadata": {
    "id": "YxqDddPeZ1Wi",
    "colab": {
     "base_uri": "https://localhost:8080/",
     "height": 488
    },
    "outputId": "f5d15745-0f60-4103-ccae-e1976c230d0e",
    "pycharm": {
     "name": "#%%\n"
    }
   },
   "execution_count": 435,
   "outputs": [
    {
     "output_type": "execute_result",
     "data": {
      "text/plain": [
       "       Diabetes_binary    HighBP  HighChol  CholCheck       BMI    Smoker  \\\n",
       "0                  0.0  0.857913 -1.071525   0.161802 -0.560349 -0.972573   \n",
       "1                  0.0  0.857913  0.933236   0.161802 -0.560349  1.028185   \n",
       "2                  0.0 -1.165603 -1.071525   0.161802 -0.560349 -0.972573   \n",
       "3                  0.0  0.857913  0.933236   0.161802 -0.281634  1.028185   \n",
       "5                  0.0 -1.165603 -1.071525   0.161802 -1.675209 -0.972573   \n",
       "...                ...       ...       ...        ...       ...       ...   \n",
       "70687              1.0 -1.165603  0.933236   0.161802  0.972584 -0.972573   \n",
       "70688              1.0 -1.165603  0.933236   0.161802 -0.142276  1.028185   \n",
       "70689              1.0  0.857913  0.933236   0.161802 -0.699707 -0.972573   \n",
       "70690              1.0  0.857913  0.933236   0.161802 -1.675209 -0.972573   \n",
       "70691              1.0  0.857913  0.933236   0.161802 -0.699707 -0.972573   \n",
       "\n",
       "         Stroke  HeartDiseaseorAttack  PhysActivity    Fruits  ...  \\\n",
       "0     -0.263093             -0.425060      0.667540 -1.228978  ...   \n",
       "1      3.800876             -0.425060     -1.498017  0.813672  ...   \n",
       "2     -0.263093             -0.425060      0.667540  0.813672  ...   \n",
       "3     -0.263093             -0.425060      0.667540  0.813672  ...   \n",
       "5     -0.263093             -0.425060      0.667540  0.813672  ...   \n",
       "...         ...                   ...           ...       ...  ...   \n",
       "70687 -0.263093             -0.425060     -1.498017 -1.228978  ...   \n",
       "70688 -0.263093              2.352577     -1.498017  0.813672  ...   \n",
       "70689 -0.263093              2.352577     -1.498017  0.813672  ...   \n",
       "70690 -0.263093             -0.425060     -1.498017 -1.228978  ...   \n",
       "70691 -0.263093              2.352577      0.667540  0.813672  ...   \n",
       "\n",
       "       AnyHealthcare  NoDocbcCost   GenHlth  MentHlth  PhysHlth  DiffWalk  \\\n",
       "0           0.221754    -0.329227  0.107098  0.132094  2.349838 -0.597303   \n",
       "1           0.221754    -0.329227  0.107098 -0.471307 -0.592965 -0.597303   \n",
       "2           0.221754    -0.329227 -1.702897 -0.471307  0.387970 -0.597303   \n",
       "3           0.221754    -0.329227  0.107098 -0.471307 -0.298684 -0.597303   \n",
       "5          -4.509437    -0.329227 -0.797900  0.373455 -0.592965 -0.597303   \n",
       "...              ...          ...       ...       ...       ...       ...   \n",
       "70687       0.221754    -0.329227  1.012095 -0.471307 -0.592965 -0.597303   \n",
       "70688       0.221754    -0.329227 -0.797900 -0.471307 -0.592965  1.674168   \n",
       "70689       0.221754    -0.329227  1.917093  1.338896 -0.592965  1.674168   \n",
       "70690       0.221754    -0.329227  1.012095 -0.471307 -0.592965  1.674168   \n",
       "70691       0.221754    -0.329227 -0.797900 -0.471307 -0.592965 -0.597303   \n",
       "\n",
       "            Sex       Age  Education    Income  \n",
       "0      1.093183 -1.611991   1.081874  1.094472  \n",
       "1      1.093183  1.182696   1.081874  1.094472  \n",
       "2      1.093183  1.532032   1.081874  1.094472  \n",
       "3      1.093183  0.833360   1.081874  1.094472  \n",
       "5     -0.914747 -2.659998  -0.860509  0.634960  \n",
       "...         ...       ...        ...       ...  \n",
       "70687 -0.914747 -0.913319  -0.860509 -2.122110  \n",
       "70688  1.093183  0.484024  -1.831701  0.175448  \n",
       "70689 -0.914747  1.532032   1.081874 -0.743575  \n",
       "70690 -0.914747  0.833360  -2.802893 -0.743575  \n",
       "70691 -0.914747  0.134688   1.081874 -1.662599  \n",
       "\n",
       "[67889 rows x 22 columns]"
      ],
      "text/html": [
       "\n",
       "  <div id=\"df-bcf0255d-dd16-4565-a255-0b7114b52a37\">\n",
       "    <div class=\"colab-df-container\">\n",
       "      <div>\n",
       "<style scoped>\n",
       "    .dataframe tbody tr th:only-of-type {\n",
       "        vertical-align: middle;\n",
       "    }\n",
       "\n",
       "    .dataframe tbody tr th {\n",
       "        vertical-align: top;\n",
       "    }\n",
       "\n",
       "    .dataframe thead th {\n",
       "        text-align: right;\n",
       "    }\n",
       "</style>\n",
       "<table border=\"1\" class=\"dataframe\">\n",
       "  <thead>\n",
       "    <tr style=\"text-align: right;\">\n",
       "      <th></th>\n",
       "      <th>Diabetes_binary</th>\n",
       "      <th>HighBP</th>\n",
       "      <th>HighChol</th>\n",
       "      <th>CholCheck</th>\n",
       "      <th>BMI</th>\n",
       "      <th>Smoker</th>\n",
       "      <th>Stroke</th>\n",
       "      <th>HeartDiseaseorAttack</th>\n",
       "      <th>PhysActivity</th>\n",
       "      <th>Fruits</th>\n",
       "      <th>...</th>\n",
       "      <th>AnyHealthcare</th>\n",
       "      <th>NoDocbcCost</th>\n",
       "      <th>GenHlth</th>\n",
       "      <th>MentHlth</th>\n",
       "      <th>PhysHlth</th>\n",
       "      <th>DiffWalk</th>\n",
       "      <th>Sex</th>\n",
       "      <th>Age</th>\n",
       "      <th>Education</th>\n",
       "      <th>Income</th>\n",
       "    </tr>\n",
       "  </thead>\n",
       "  <tbody>\n",
       "    <tr>\n",
       "      <th>0</th>\n",
       "      <td>0.0</td>\n",
       "      <td>0.857913</td>\n",
       "      <td>-1.071525</td>\n",
       "      <td>0.161802</td>\n",
       "      <td>-0.560349</td>\n",
       "      <td>-0.972573</td>\n",
       "      <td>-0.263093</td>\n",
       "      <td>-0.425060</td>\n",
       "      <td>0.667540</td>\n",
       "      <td>-1.228978</td>\n",
       "      <td>...</td>\n",
       "      <td>0.221754</td>\n",
       "      <td>-0.329227</td>\n",
       "      <td>0.107098</td>\n",
       "      <td>0.132094</td>\n",
       "      <td>2.349838</td>\n",
       "      <td>-0.597303</td>\n",
       "      <td>1.093183</td>\n",
       "      <td>-1.611991</td>\n",
       "      <td>1.081874</td>\n",
       "      <td>1.094472</td>\n",
       "    </tr>\n",
       "    <tr>\n",
       "      <th>1</th>\n",
       "      <td>0.0</td>\n",
       "      <td>0.857913</td>\n",
       "      <td>0.933236</td>\n",
       "      <td>0.161802</td>\n",
       "      <td>-0.560349</td>\n",
       "      <td>1.028185</td>\n",
       "      <td>3.800876</td>\n",
       "      <td>-0.425060</td>\n",
       "      <td>-1.498017</td>\n",
       "      <td>0.813672</td>\n",
       "      <td>...</td>\n",
       "      <td>0.221754</td>\n",
       "      <td>-0.329227</td>\n",
       "      <td>0.107098</td>\n",
       "      <td>-0.471307</td>\n",
       "      <td>-0.592965</td>\n",
       "      <td>-0.597303</td>\n",
       "      <td>1.093183</td>\n",
       "      <td>1.182696</td>\n",
       "      <td>1.081874</td>\n",
       "      <td>1.094472</td>\n",
       "    </tr>\n",
       "    <tr>\n",
       "      <th>2</th>\n",
       "      <td>0.0</td>\n",
       "      <td>-1.165603</td>\n",
       "      <td>-1.071525</td>\n",
       "      <td>0.161802</td>\n",
       "      <td>-0.560349</td>\n",
       "      <td>-0.972573</td>\n",
       "      <td>-0.263093</td>\n",
       "      <td>-0.425060</td>\n",
       "      <td>0.667540</td>\n",
       "      <td>0.813672</td>\n",
       "      <td>...</td>\n",
       "      <td>0.221754</td>\n",
       "      <td>-0.329227</td>\n",
       "      <td>-1.702897</td>\n",
       "      <td>-0.471307</td>\n",
       "      <td>0.387970</td>\n",
       "      <td>-0.597303</td>\n",
       "      <td>1.093183</td>\n",
       "      <td>1.532032</td>\n",
       "      <td>1.081874</td>\n",
       "      <td>1.094472</td>\n",
       "    </tr>\n",
       "    <tr>\n",
       "      <th>3</th>\n",
       "      <td>0.0</td>\n",
       "      <td>0.857913</td>\n",
       "      <td>0.933236</td>\n",
       "      <td>0.161802</td>\n",
       "      <td>-0.281634</td>\n",
       "      <td>1.028185</td>\n",
       "      <td>-0.263093</td>\n",
       "      <td>-0.425060</td>\n",
       "      <td>0.667540</td>\n",
       "      <td>0.813672</td>\n",
       "      <td>...</td>\n",
       "      <td>0.221754</td>\n",
       "      <td>-0.329227</td>\n",
       "      <td>0.107098</td>\n",
       "      <td>-0.471307</td>\n",
       "      <td>-0.298684</td>\n",
       "      <td>-0.597303</td>\n",
       "      <td>1.093183</td>\n",
       "      <td>0.833360</td>\n",
       "      <td>1.081874</td>\n",
       "      <td>1.094472</td>\n",
       "    </tr>\n",
       "    <tr>\n",
       "      <th>5</th>\n",
       "      <td>0.0</td>\n",
       "      <td>-1.165603</td>\n",
       "      <td>-1.071525</td>\n",
       "      <td>0.161802</td>\n",
       "      <td>-1.675209</td>\n",
       "      <td>-0.972573</td>\n",
       "      <td>-0.263093</td>\n",
       "      <td>-0.425060</td>\n",
       "      <td>0.667540</td>\n",
       "      <td>0.813672</td>\n",
       "      <td>...</td>\n",
       "      <td>-4.509437</td>\n",
       "      <td>-0.329227</td>\n",
       "      <td>-0.797900</td>\n",
       "      <td>0.373455</td>\n",
       "      <td>-0.592965</td>\n",
       "      <td>-0.597303</td>\n",
       "      <td>-0.914747</td>\n",
       "      <td>-2.659998</td>\n",
       "      <td>-0.860509</td>\n",
       "      <td>0.634960</td>\n",
       "    </tr>\n",
       "    <tr>\n",
       "      <th>...</th>\n",
       "      <td>...</td>\n",
       "      <td>...</td>\n",
       "      <td>...</td>\n",
       "      <td>...</td>\n",
       "      <td>...</td>\n",
       "      <td>...</td>\n",
       "      <td>...</td>\n",
       "      <td>...</td>\n",
       "      <td>...</td>\n",
       "      <td>...</td>\n",
       "      <td>...</td>\n",
       "      <td>...</td>\n",
       "      <td>...</td>\n",
       "      <td>...</td>\n",
       "      <td>...</td>\n",
       "      <td>...</td>\n",
       "      <td>...</td>\n",
       "      <td>...</td>\n",
       "      <td>...</td>\n",
       "      <td>...</td>\n",
       "      <td>...</td>\n",
       "    </tr>\n",
       "    <tr>\n",
       "      <th>70687</th>\n",
       "      <td>1.0</td>\n",
       "      <td>-1.165603</td>\n",
       "      <td>0.933236</td>\n",
       "      <td>0.161802</td>\n",
       "      <td>0.972584</td>\n",
       "      <td>-0.972573</td>\n",
       "      <td>-0.263093</td>\n",
       "      <td>-0.425060</td>\n",
       "      <td>-1.498017</td>\n",
       "      <td>-1.228978</td>\n",
       "      <td>...</td>\n",
       "      <td>0.221754</td>\n",
       "      <td>-0.329227</td>\n",
       "      <td>1.012095</td>\n",
       "      <td>-0.471307</td>\n",
       "      <td>-0.592965</td>\n",
       "      <td>-0.597303</td>\n",
       "      <td>-0.914747</td>\n",
       "      <td>-0.913319</td>\n",
       "      <td>-0.860509</td>\n",
       "      <td>-2.122110</td>\n",
       "    </tr>\n",
       "    <tr>\n",
       "      <th>70688</th>\n",
       "      <td>1.0</td>\n",
       "      <td>-1.165603</td>\n",
       "      <td>0.933236</td>\n",
       "      <td>0.161802</td>\n",
       "      <td>-0.142276</td>\n",
       "      <td>1.028185</td>\n",
       "      <td>-0.263093</td>\n",
       "      <td>2.352577</td>\n",
       "      <td>-1.498017</td>\n",
       "      <td>0.813672</td>\n",
       "      <td>...</td>\n",
       "      <td>0.221754</td>\n",
       "      <td>-0.329227</td>\n",
       "      <td>-0.797900</td>\n",
       "      <td>-0.471307</td>\n",
       "      <td>-0.592965</td>\n",
       "      <td>1.674168</td>\n",
       "      <td>1.093183</td>\n",
       "      <td>0.484024</td>\n",
       "      <td>-1.831701</td>\n",
       "      <td>0.175448</td>\n",
       "    </tr>\n",
       "    <tr>\n",
       "      <th>70689</th>\n",
       "      <td>1.0</td>\n",
       "      <td>0.857913</td>\n",
       "      <td>0.933236</td>\n",
       "      <td>0.161802</td>\n",
       "      <td>-0.699707</td>\n",
       "      <td>-0.972573</td>\n",
       "      <td>-0.263093</td>\n",
       "      <td>2.352577</td>\n",
       "      <td>-1.498017</td>\n",
       "      <td>0.813672</td>\n",
       "      <td>...</td>\n",
       "      <td>0.221754</td>\n",
       "      <td>-0.329227</td>\n",
       "      <td>1.917093</td>\n",
       "      <td>1.338896</td>\n",
       "      <td>-0.592965</td>\n",
       "      <td>1.674168</td>\n",
       "      <td>-0.914747</td>\n",
       "      <td>1.532032</td>\n",
       "      <td>1.081874</td>\n",
       "      <td>-0.743575</td>\n",
       "    </tr>\n",
       "    <tr>\n",
       "      <th>70690</th>\n",
       "      <td>1.0</td>\n",
       "      <td>0.857913</td>\n",
       "      <td>0.933236</td>\n",
       "      <td>0.161802</td>\n",
       "      <td>-1.675209</td>\n",
       "      <td>-0.972573</td>\n",
       "      <td>-0.263093</td>\n",
       "      <td>-0.425060</td>\n",
       "      <td>-1.498017</td>\n",
       "      <td>-1.228978</td>\n",
       "      <td>...</td>\n",
       "      <td>0.221754</td>\n",
       "      <td>-0.329227</td>\n",
       "      <td>1.012095</td>\n",
       "      <td>-0.471307</td>\n",
       "      <td>-0.592965</td>\n",
       "      <td>1.674168</td>\n",
       "      <td>-0.914747</td>\n",
       "      <td>0.833360</td>\n",
       "      <td>-2.802893</td>\n",
       "      <td>-0.743575</td>\n",
       "    </tr>\n",
       "    <tr>\n",
       "      <th>70691</th>\n",
       "      <td>1.0</td>\n",
       "      <td>0.857913</td>\n",
       "      <td>0.933236</td>\n",
       "      <td>0.161802</td>\n",
       "      <td>-0.699707</td>\n",
       "      <td>-0.972573</td>\n",
       "      <td>-0.263093</td>\n",
       "      <td>2.352577</td>\n",
       "      <td>0.667540</td>\n",
       "      <td>0.813672</td>\n",
       "      <td>...</td>\n",
       "      <td>0.221754</td>\n",
       "      <td>-0.329227</td>\n",
       "      <td>-0.797900</td>\n",
       "      <td>-0.471307</td>\n",
       "      <td>-0.592965</td>\n",
       "      <td>-0.597303</td>\n",
       "      <td>-0.914747</td>\n",
       "      <td>0.134688</td>\n",
       "      <td>1.081874</td>\n",
       "      <td>-1.662599</td>\n",
       "    </tr>\n",
       "  </tbody>\n",
       "</table>\n",
       "<p>67889 rows × 22 columns</p>\n",
       "</div>\n",
       "      <button class=\"colab-df-convert\" onclick=\"convertToInteractive('df-bcf0255d-dd16-4565-a255-0b7114b52a37')\"\n",
       "              title=\"Convert this dataframe to an interactive table.\"\n",
       "              style=\"display:none;\">\n",
       "        \n",
       "  <svg xmlns=\"http://www.w3.org/2000/svg\" height=\"24px\"viewBox=\"0 0 24 24\"\n",
       "       width=\"24px\">\n",
       "    <path d=\"M0 0h24v24H0V0z\" fill=\"none\"/>\n",
       "    <path d=\"M18.56 5.44l.94 2.06.94-2.06 2.06-.94-2.06-.94-.94-2.06-.94 2.06-2.06.94zm-11 1L8.5 8.5l.94-2.06 2.06-.94-2.06-.94L8.5 2.5l-.94 2.06-2.06.94zm10 10l.94 2.06.94-2.06 2.06-.94-2.06-.94-.94-2.06-.94 2.06-2.06.94z\"/><path d=\"M17.41 7.96l-1.37-1.37c-.4-.4-.92-.59-1.43-.59-.52 0-1.04.2-1.43.59L10.3 9.45l-7.72 7.72c-.78.78-.78 2.05 0 2.83L4 21.41c.39.39.9.59 1.41.59.51 0 1.02-.2 1.41-.59l7.78-7.78 2.81-2.81c.8-.78.8-2.07 0-2.86zM5.41 20L4 18.59l7.72-7.72 1.47 1.35L5.41 20z\"/>\n",
       "  </svg>\n",
       "      </button>\n",
       "      \n",
       "  <style>\n",
       "    .colab-df-container {\n",
       "      display:flex;\n",
       "      flex-wrap:wrap;\n",
       "      gap: 12px;\n",
       "    }\n",
       "\n",
       "    .colab-df-convert {\n",
       "      background-color: #E8F0FE;\n",
       "      border: none;\n",
       "      border-radius: 50%;\n",
       "      cursor: pointer;\n",
       "      display: none;\n",
       "      fill: #1967D2;\n",
       "      height: 32px;\n",
       "      padding: 0 0 0 0;\n",
       "      width: 32px;\n",
       "    }\n",
       "\n",
       "    .colab-df-convert:hover {\n",
       "      background-color: #E2EBFA;\n",
       "      box-shadow: 0px 1px 2px rgba(60, 64, 67, 0.3), 0px 1px 3px 1px rgba(60, 64, 67, 0.15);\n",
       "      fill: #174EA6;\n",
       "    }\n",
       "\n",
       "    [theme=dark] .colab-df-convert {\n",
       "      background-color: #3B4455;\n",
       "      fill: #D2E3FC;\n",
       "    }\n",
       "\n",
       "    [theme=dark] .colab-df-convert:hover {\n",
       "      background-color: #434B5C;\n",
       "      box-shadow: 0px 1px 3px 1px rgba(0, 0, 0, 0.15);\n",
       "      filter: drop-shadow(0px 1px 2px rgba(0, 0, 0, 0.3));\n",
       "      fill: #FFFFFF;\n",
       "    }\n",
       "  </style>\n",
       "\n",
       "      <script>\n",
       "        const buttonEl =\n",
       "          document.querySelector('#df-bcf0255d-dd16-4565-a255-0b7114b52a37 button.colab-df-convert');\n",
       "        buttonEl.style.display =\n",
       "          google.colab.kernel.accessAllowed ? 'block' : 'none';\n",
       "\n",
       "        async function convertToInteractive(key) {\n",
       "          const element = document.querySelector('#df-bcf0255d-dd16-4565-a255-0b7114b52a37');\n",
       "          const dataTable =\n",
       "            await google.colab.kernel.invokeFunction('convertToInteractive',\n",
       "                                                     [key], {});\n",
       "          if (!dataTable) return;\n",
       "\n",
       "          const docLinkHtml = 'Like what you see? Visit the ' +\n",
       "            '<a target=\"_blank\" href=https://colab.research.google.com/notebooks/data_table.ipynb>data table notebook</a>'\n",
       "            + ' to learn more about interactive tables.';\n",
       "          element.innerHTML = '';\n",
       "          dataTable['output_type'] = 'display_data';\n",
       "          await google.colab.output.renderOutput(dataTable, element);\n",
       "          const docLink = document.createElement('div');\n",
       "          docLink.innerHTML = docLinkHtml;\n",
       "          element.appendChild(docLink);\n",
       "        }\n",
       "      </script>\n",
       "    </div>\n",
       "  </div>\n",
       "  "
      ]
     },
     "metadata": {},
     "execution_count": 435
    }
   ]
  },
  {
   "cell_type": "code",
   "source": [
    "data.describe()"
   ],
   "metadata": {
    "colab": {
     "base_uri": "https://localhost:8080/",
     "height": 480
    },
    "id": "MP80q9mmEg2S",
    "outputId": "fd92add7-04d1-483d-a9b5-a72f98d7d509",
    "pycharm": {
     "name": "#%%\n"
    }
   },
   "execution_count": 436,
   "outputs": [
    {
     "output_type": "execute_result",
     "data": {
      "text/plain": [
       "       Diabetes_binary        HighBP      HighChol     CholCheck  \\\n",
       "count     67889.000000  6.788900e+04  6.788900e+04  6.788900e+04   \n",
       "mean          0.513588  2.206172e-14 -1.756357e-13 -3.691084e-14   \n",
       "std           0.499819  1.000000e+00  1.000000e+00  1.000000e+00   \n",
       "min           0.000000 -1.165603e+00 -1.071525e+00 -6.180317e+00   \n",
       "25%           0.000000 -1.165603e+00 -1.071525e+00  1.618016e-01   \n",
       "50%           1.000000  8.579128e-01  9.332358e-01  1.618016e-01   \n",
       "75%           1.000000  8.579128e-01  9.332358e-01  1.618016e-01   \n",
       "max           1.000000  8.579128e-01  9.332358e-01  1.618016e-01   \n",
       "\n",
       "                BMI        Smoker        Stroke  HeartDiseaseorAttack  \\\n",
       "count  6.788900e+04  6.788900e+04  6.788900e+04          6.788900e+04   \n",
       "mean  -1.092883e-14  9.809770e-15 -5.272705e-14         -9.892057e-14   \n",
       "std    1.000000e+00  1.000000e+00  1.000000e+00          1.000000e+00   \n",
       "min   -2.511354e+00 -9.725732e-01 -2.630934e-01         -4.250595e-01   \n",
       "25%   -6.997066e-01 -9.725732e-01 -2.630934e-01         -4.250595e-01   \n",
       "50%   -1.422765e-01 -9.725732e-01 -2.630934e-01         -4.250595e-01   \n",
       "75%    4.151536e-01  1.028185e+00 -2.630934e-01         -4.250595e-01   \n",
       "max    9.473392e+00  1.028185e+00  3.800876e+00          2.352577e+00   \n",
       "\n",
       "       PhysActivity        Fruits  ...  AnyHealthcare   NoDocbcCost  \\\n",
       "count  6.788900e+04  6.788900e+04  ...   6.788900e+04  6.788900e+04   \n",
       "mean   6.990407e-14 -8.714275e-16  ...   5.601459e-16  2.265275e-14   \n",
       "std    1.000000e+00  1.000000e+00  ...   1.000000e+00  1.000000e+00   \n",
       "min   -1.498017e+00 -1.228978e+00  ...  -4.509437e+00 -3.292267e-01   \n",
       "25%   -1.498017e+00 -1.228978e+00  ...   2.217539e-01 -3.292267e-01   \n",
       "50%    6.675395e-01  8.136722e-01  ...   2.217539e-01 -3.292267e-01   \n",
       "75%    6.675395e-01  8.136722e-01  ...   2.217539e-01 -3.292267e-01   \n",
       "max    6.675395e-01  8.136722e-01  ...   2.217539e-01  3.037376e+00   \n",
       "\n",
       "            GenHlth      MentHlth      PhysHlth      DiffWalk           Sex  \\\n",
       "count  6.788900e+04  6.788900e+04  6.788900e+04  6.788900e+04  6.788900e+04   \n",
       "mean   1.456792e-14 -1.389578e-14  2.669778e-14 -4.159775e-14  2.146157e-14   \n",
       "std    1.000000e+00  1.000000e+00  1.000000e+00  1.000000e+00  1.000000e+00   \n",
       "min   -1.702897e+00 -4.713066e-01 -5.929645e-01 -5.973029e-01 -9.147467e-01   \n",
       "25%   -7.978999e-01 -4.713066e-01 -5.929645e-01 -5.973029e-01 -9.147467e-01   \n",
       "50%    1.070976e-01 -4.713066e-01 -5.929645e-01 -5.973029e-01 -9.147467e-01   \n",
       "75%    1.012095e+00 -1.092661e-01  9.368933e-02  1.674168e+00  1.093183e+00   \n",
       "max    1.917093e+00  3.149098e+00  2.349838e+00  1.674168e+00  1.093183e+00   \n",
       "\n",
       "                Age     Education        Income  \n",
       "count  6.788900e+04  6.788900e+04  6.788900e+04  \n",
       "mean   3.109653e-14 -5.807792e-14  5.728618e-14  \n",
       "std    1.000000e+00  1.000000e+00  1.000000e+00  \n",
       "min   -2.659998e+00 -3.774084e+00 -2.122110e+00  \n",
       "25%   -5.639832e-01 -8.605093e-01 -7.435752e-01  \n",
       "50%    1.346885e-01  1.106823e-01  1.754482e-01  \n",
       "75%    8.333601e-01  1.081874e+00  1.094472e+00  \n",
       "max    1.532032e+00  1.081874e+00  1.094472e+00  \n",
       "\n",
       "[8 rows x 22 columns]"
      ],
      "text/html": [
       "\n",
       "  <div id=\"df-211ba3fd-9350-4176-b865-7a8aab71f8b3\">\n",
       "    <div class=\"colab-df-container\">\n",
       "      <div>\n",
       "<style scoped>\n",
       "    .dataframe tbody tr th:only-of-type {\n",
       "        vertical-align: middle;\n",
       "    }\n",
       "\n",
       "    .dataframe tbody tr th {\n",
       "        vertical-align: top;\n",
       "    }\n",
       "\n",
       "    .dataframe thead th {\n",
       "        text-align: right;\n",
       "    }\n",
       "</style>\n",
       "<table border=\"1\" class=\"dataframe\">\n",
       "  <thead>\n",
       "    <tr style=\"text-align: right;\">\n",
       "      <th></th>\n",
       "      <th>Diabetes_binary</th>\n",
       "      <th>HighBP</th>\n",
       "      <th>HighChol</th>\n",
       "      <th>CholCheck</th>\n",
       "      <th>BMI</th>\n",
       "      <th>Smoker</th>\n",
       "      <th>Stroke</th>\n",
       "      <th>HeartDiseaseorAttack</th>\n",
       "      <th>PhysActivity</th>\n",
       "      <th>Fruits</th>\n",
       "      <th>...</th>\n",
       "      <th>AnyHealthcare</th>\n",
       "      <th>NoDocbcCost</th>\n",
       "      <th>GenHlth</th>\n",
       "      <th>MentHlth</th>\n",
       "      <th>PhysHlth</th>\n",
       "      <th>DiffWalk</th>\n",
       "      <th>Sex</th>\n",
       "      <th>Age</th>\n",
       "      <th>Education</th>\n",
       "      <th>Income</th>\n",
       "    </tr>\n",
       "  </thead>\n",
       "  <tbody>\n",
       "    <tr>\n",
       "      <th>count</th>\n",
       "      <td>67889.000000</td>\n",
       "      <td>6.788900e+04</td>\n",
       "      <td>6.788900e+04</td>\n",
       "      <td>6.788900e+04</td>\n",
       "      <td>6.788900e+04</td>\n",
       "      <td>6.788900e+04</td>\n",
       "      <td>6.788900e+04</td>\n",
       "      <td>6.788900e+04</td>\n",
       "      <td>6.788900e+04</td>\n",
       "      <td>6.788900e+04</td>\n",
       "      <td>...</td>\n",
       "      <td>6.788900e+04</td>\n",
       "      <td>6.788900e+04</td>\n",
       "      <td>6.788900e+04</td>\n",
       "      <td>6.788900e+04</td>\n",
       "      <td>6.788900e+04</td>\n",
       "      <td>6.788900e+04</td>\n",
       "      <td>6.788900e+04</td>\n",
       "      <td>6.788900e+04</td>\n",
       "      <td>6.788900e+04</td>\n",
       "      <td>6.788900e+04</td>\n",
       "    </tr>\n",
       "    <tr>\n",
       "      <th>mean</th>\n",
       "      <td>0.513588</td>\n",
       "      <td>2.206172e-14</td>\n",
       "      <td>-1.756357e-13</td>\n",
       "      <td>-3.691084e-14</td>\n",
       "      <td>-1.092883e-14</td>\n",
       "      <td>9.809770e-15</td>\n",
       "      <td>-5.272705e-14</td>\n",
       "      <td>-9.892057e-14</td>\n",
       "      <td>6.990407e-14</td>\n",
       "      <td>-8.714275e-16</td>\n",
       "      <td>...</td>\n",
       "      <td>5.601459e-16</td>\n",
       "      <td>2.265275e-14</td>\n",
       "      <td>1.456792e-14</td>\n",
       "      <td>-1.389578e-14</td>\n",
       "      <td>2.669778e-14</td>\n",
       "      <td>-4.159775e-14</td>\n",
       "      <td>2.146157e-14</td>\n",
       "      <td>3.109653e-14</td>\n",
       "      <td>-5.807792e-14</td>\n",
       "      <td>5.728618e-14</td>\n",
       "    </tr>\n",
       "    <tr>\n",
       "      <th>std</th>\n",
       "      <td>0.499819</td>\n",
       "      <td>1.000000e+00</td>\n",
       "      <td>1.000000e+00</td>\n",
       "      <td>1.000000e+00</td>\n",
       "      <td>1.000000e+00</td>\n",
       "      <td>1.000000e+00</td>\n",
       "      <td>1.000000e+00</td>\n",
       "      <td>1.000000e+00</td>\n",
       "      <td>1.000000e+00</td>\n",
       "      <td>1.000000e+00</td>\n",
       "      <td>...</td>\n",
       "      <td>1.000000e+00</td>\n",
       "      <td>1.000000e+00</td>\n",
       "      <td>1.000000e+00</td>\n",
       "      <td>1.000000e+00</td>\n",
       "      <td>1.000000e+00</td>\n",
       "      <td>1.000000e+00</td>\n",
       "      <td>1.000000e+00</td>\n",
       "      <td>1.000000e+00</td>\n",
       "      <td>1.000000e+00</td>\n",
       "      <td>1.000000e+00</td>\n",
       "    </tr>\n",
       "    <tr>\n",
       "      <th>min</th>\n",
       "      <td>0.000000</td>\n",
       "      <td>-1.165603e+00</td>\n",
       "      <td>-1.071525e+00</td>\n",
       "      <td>-6.180317e+00</td>\n",
       "      <td>-2.511354e+00</td>\n",
       "      <td>-9.725732e-01</td>\n",
       "      <td>-2.630934e-01</td>\n",
       "      <td>-4.250595e-01</td>\n",
       "      <td>-1.498017e+00</td>\n",
       "      <td>-1.228978e+00</td>\n",
       "      <td>...</td>\n",
       "      <td>-4.509437e+00</td>\n",
       "      <td>-3.292267e-01</td>\n",
       "      <td>-1.702897e+00</td>\n",
       "      <td>-4.713066e-01</td>\n",
       "      <td>-5.929645e-01</td>\n",
       "      <td>-5.973029e-01</td>\n",
       "      <td>-9.147467e-01</td>\n",
       "      <td>-2.659998e+00</td>\n",
       "      <td>-3.774084e+00</td>\n",
       "      <td>-2.122110e+00</td>\n",
       "    </tr>\n",
       "    <tr>\n",
       "      <th>25%</th>\n",
       "      <td>0.000000</td>\n",
       "      <td>-1.165603e+00</td>\n",
       "      <td>-1.071525e+00</td>\n",
       "      <td>1.618016e-01</td>\n",
       "      <td>-6.997066e-01</td>\n",
       "      <td>-9.725732e-01</td>\n",
       "      <td>-2.630934e-01</td>\n",
       "      <td>-4.250595e-01</td>\n",
       "      <td>-1.498017e+00</td>\n",
       "      <td>-1.228978e+00</td>\n",
       "      <td>...</td>\n",
       "      <td>2.217539e-01</td>\n",
       "      <td>-3.292267e-01</td>\n",
       "      <td>-7.978999e-01</td>\n",
       "      <td>-4.713066e-01</td>\n",
       "      <td>-5.929645e-01</td>\n",
       "      <td>-5.973029e-01</td>\n",
       "      <td>-9.147467e-01</td>\n",
       "      <td>-5.639832e-01</td>\n",
       "      <td>-8.605093e-01</td>\n",
       "      <td>-7.435752e-01</td>\n",
       "    </tr>\n",
       "    <tr>\n",
       "      <th>50%</th>\n",
       "      <td>1.000000</td>\n",
       "      <td>8.579128e-01</td>\n",
       "      <td>9.332358e-01</td>\n",
       "      <td>1.618016e-01</td>\n",
       "      <td>-1.422765e-01</td>\n",
       "      <td>-9.725732e-01</td>\n",
       "      <td>-2.630934e-01</td>\n",
       "      <td>-4.250595e-01</td>\n",
       "      <td>6.675395e-01</td>\n",
       "      <td>8.136722e-01</td>\n",
       "      <td>...</td>\n",
       "      <td>2.217539e-01</td>\n",
       "      <td>-3.292267e-01</td>\n",
       "      <td>1.070976e-01</td>\n",
       "      <td>-4.713066e-01</td>\n",
       "      <td>-5.929645e-01</td>\n",
       "      <td>-5.973029e-01</td>\n",
       "      <td>-9.147467e-01</td>\n",
       "      <td>1.346885e-01</td>\n",
       "      <td>1.106823e-01</td>\n",
       "      <td>1.754482e-01</td>\n",
       "    </tr>\n",
       "    <tr>\n",
       "      <th>75%</th>\n",
       "      <td>1.000000</td>\n",
       "      <td>8.579128e-01</td>\n",
       "      <td>9.332358e-01</td>\n",
       "      <td>1.618016e-01</td>\n",
       "      <td>4.151536e-01</td>\n",
       "      <td>1.028185e+00</td>\n",
       "      <td>-2.630934e-01</td>\n",
       "      <td>-4.250595e-01</td>\n",
       "      <td>6.675395e-01</td>\n",
       "      <td>8.136722e-01</td>\n",
       "      <td>...</td>\n",
       "      <td>2.217539e-01</td>\n",
       "      <td>-3.292267e-01</td>\n",
       "      <td>1.012095e+00</td>\n",
       "      <td>-1.092661e-01</td>\n",
       "      <td>9.368933e-02</td>\n",
       "      <td>1.674168e+00</td>\n",
       "      <td>1.093183e+00</td>\n",
       "      <td>8.333601e-01</td>\n",
       "      <td>1.081874e+00</td>\n",
       "      <td>1.094472e+00</td>\n",
       "    </tr>\n",
       "    <tr>\n",
       "      <th>max</th>\n",
       "      <td>1.000000</td>\n",
       "      <td>8.579128e-01</td>\n",
       "      <td>9.332358e-01</td>\n",
       "      <td>1.618016e-01</td>\n",
       "      <td>9.473392e+00</td>\n",
       "      <td>1.028185e+00</td>\n",
       "      <td>3.800876e+00</td>\n",
       "      <td>2.352577e+00</td>\n",
       "      <td>6.675395e-01</td>\n",
       "      <td>8.136722e-01</td>\n",
       "      <td>...</td>\n",
       "      <td>2.217539e-01</td>\n",
       "      <td>3.037376e+00</td>\n",
       "      <td>1.917093e+00</td>\n",
       "      <td>3.149098e+00</td>\n",
       "      <td>2.349838e+00</td>\n",
       "      <td>1.674168e+00</td>\n",
       "      <td>1.093183e+00</td>\n",
       "      <td>1.532032e+00</td>\n",
       "      <td>1.081874e+00</td>\n",
       "      <td>1.094472e+00</td>\n",
       "    </tr>\n",
       "  </tbody>\n",
       "</table>\n",
       "<p>8 rows × 22 columns</p>\n",
       "</div>\n",
       "      <button class=\"colab-df-convert\" onclick=\"convertToInteractive('df-211ba3fd-9350-4176-b865-7a8aab71f8b3')\"\n",
       "              title=\"Convert this dataframe to an interactive table.\"\n",
       "              style=\"display:none;\">\n",
       "        \n",
       "  <svg xmlns=\"http://www.w3.org/2000/svg\" height=\"24px\"viewBox=\"0 0 24 24\"\n",
       "       width=\"24px\">\n",
       "    <path d=\"M0 0h24v24H0V0z\" fill=\"none\"/>\n",
       "    <path d=\"M18.56 5.44l.94 2.06.94-2.06 2.06-.94-2.06-.94-.94-2.06-.94 2.06-2.06.94zm-11 1L8.5 8.5l.94-2.06 2.06-.94-2.06-.94L8.5 2.5l-.94 2.06-2.06.94zm10 10l.94 2.06.94-2.06 2.06-.94-2.06-.94-.94-2.06-.94 2.06-2.06.94z\"/><path d=\"M17.41 7.96l-1.37-1.37c-.4-.4-.92-.59-1.43-.59-.52 0-1.04.2-1.43.59L10.3 9.45l-7.72 7.72c-.78.78-.78 2.05 0 2.83L4 21.41c.39.39.9.59 1.41.59.51 0 1.02-.2 1.41-.59l7.78-7.78 2.81-2.81c.8-.78.8-2.07 0-2.86zM5.41 20L4 18.59l7.72-7.72 1.47 1.35L5.41 20z\"/>\n",
       "  </svg>\n",
       "      </button>\n",
       "      \n",
       "  <style>\n",
       "    .colab-df-container {\n",
       "      display:flex;\n",
       "      flex-wrap:wrap;\n",
       "      gap: 12px;\n",
       "    }\n",
       "\n",
       "    .colab-df-convert {\n",
       "      background-color: #E8F0FE;\n",
       "      border: none;\n",
       "      border-radius: 50%;\n",
       "      cursor: pointer;\n",
       "      display: none;\n",
       "      fill: #1967D2;\n",
       "      height: 32px;\n",
       "      padding: 0 0 0 0;\n",
       "      width: 32px;\n",
       "    }\n",
       "\n",
       "    .colab-df-convert:hover {\n",
       "      background-color: #E2EBFA;\n",
       "      box-shadow: 0px 1px 2px rgba(60, 64, 67, 0.3), 0px 1px 3px 1px rgba(60, 64, 67, 0.15);\n",
       "      fill: #174EA6;\n",
       "    }\n",
       "\n",
       "    [theme=dark] .colab-df-convert {\n",
       "      background-color: #3B4455;\n",
       "      fill: #D2E3FC;\n",
       "    }\n",
       "\n",
       "    [theme=dark] .colab-df-convert:hover {\n",
       "      background-color: #434B5C;\n",
       "      box-shadow: 0px 1px 3px 1px rgba(0, 0, 0, 0.15);\n",
       "      filter: drop-shadow(0px 1px 2px rgba(0, 0, 0, 0.3));\n",
       "      fill: #FFFFFF;\n",
       "    }\n",
       "  </style>\n",
       "\n",
       "      <script>\n",
       "        const buttonEl =\n",
       "          document.querySelector('#df-211ba3fd-9350-4176-b865-7a8aab71f8b3 button.colab-df-convert');\n",
       "        buttonEl.style.display =\n",
       "          google.colab.kernel.accessAllowed ? 'block' : 'none';\n",
       "\n",
       "        async function convertToInteractive(key) {\n",
       "          const element = document.querySelector('#df-211ba3fd-9350-4176-b865-7a8aab71f8b3');\n",
       "          const dataTable =\n",
       "            await google.colab.kernel.invokeFunction('convertToInteractive',\n",
       "                                                     [key], {});\n",
       "          if (!dataTable) return;\n",
       "\n",
       "          const docLinkHtml = 'Like what you see? Visit the ' +\n",
       "            '<a target=\"_blank\" href=https://colab.research.google.com/notebooks/data_table.ipynb>data table notebook</a>'\n",
       "            + ' to learn more about interactive tables.';\n",
       "          element.innerHTML = '';\n",
       "          dataTable['output_type'] = 'display_data';\n",
       "          await google.colab.output.renderOutput(dataTable, element);\n",
       "          const docLink = document.createElement('div');\n",
       "          docLink.innerHTML = docLinkHtml;\n",
       "          element.appendChild(docLink);\n",
       "        }\n",
       "      </script>\n",
       "    </div>\n",
       "  </div>\n",
       "  "
      ]
     },
     "metadata": {},
     "execution_count": 436
    }
   ]
  },
  {
   "cell_type": "code",
   "source": [
    "corr_with_class=data.drop('Diabetes_binary', axis=1).corrwith(data.Diabetes_binary).sort_values()\n",
    "corr_with_class.plot(kind='barh', figsize=(10, 7))"
   ],
   "metadata": {
    "colab": {
     "base_uri": "https://localhost:8080/",
     "height": 448
    },
    "id": "jq5aEYoNEyul",
    "outputId": "1aa1ea40-7ceb-435a-c166-2b4b9b295ebd",
    "pycharm": {
     "name": "#%%\n"
    }
   },
   "execution_count": 437,
   "outputs": [
    {
     "output_type": "execute_result",
     "data": {
      "text/plain": [
       "<matplotlib.axes._subplots.AxesSubplot at 0x7f9b302d8190>"
      ]
     },
     "metadata": {},
     "execution_count": 437
    },
    {
     "output_type": "display_data",
     "data": {
      "text/plain": [
       "<Figure size 720x504 with 1 Axes>"
      ],
      "image/png": "[encoded data removed]"
     },
     "metadata": {
      "needs_background": "light"
     }
    }
   ]
  },
  {
   "cell_type": "markdown",
   "source": [
    "<h1>Modelling</h1>"
   ],
   "metadata": {
    "id": "k2zuvlX_S8C4",
    "pycharm": {
     "name": "#%% md\n"
    }
   }
  },
  {
   "cell_type": "markdown",
   "source": [
    "# logistic reggession"
   ],
   "metadata": {
    "id": "vmBDOdV3Ye7Q",
    "pycharm": {
     "name": "#%% md\n"
    }
   }
  },
  {
   "cell_type": "code",
   "source": [
    "cols = list(data.columns)\n",
    "cols.remove(\"Diabetes_binary\")\n",
    "sampled,target = SMOTE().fit_resample(data[cols],data[\"Diabetes_binary\"])\n",
    "X_train,X_test,Y_train,Y_test = train_test_split(sampled[cols],\n",
    "                                                 target,\n",
    "                                                 test_size = 0.1,\n",
    "                                                 shuffle=True)"
   ],
   "metadata": {
    "id": "x7m27sSiS7LL",
    "pycharm": {
     "name": "#%%\n"
    }
   },
   "execution_count": 438,
   "outputs": []
  },
  {
   "cell_type": "code",
   "source": [
    "print(\"Train Feature Size : \",len(X_train))\n",
    "print(\"Train Label Size : \",len(Y_train))\n",
    "print(\"Test Feature Size : \",len(X_test))\n",
    "print(\"Test Label Size : \",len(Y_test))"
   ],
   "metadata": {
    "colab": {
     "base_uri": "https://localhost:8080/"
    },
    "id": "bO7X1Q7wXThe",
    "outputId": "9f6b0141-e2da-45ef-e47b-20ea37bc9e83",
    "pycharm": {
     "name": "#%%\n"
    }
   },
   "execution_count": 439,
   "outputs": [
    {
     "output_type": "stream",
     "name": "stdout",
     "text": [
      "Train Feature Size :  62760\n",
      "Train Label Size :  62760\n",
      "Test Feature Size :  6974\n",
      "Test Label Size :  6974\n"
     ]
    }
   ]
  },
  {
   "cell_type": "code",
   "source": [
    "data.shape"
   ],
   "metadata": {
    "colab": {
     "base_uri": "https://localhost:8080/"
    },
    "id": "ILcIYlGQKVYZ",
    "outputId": "c7bba151-ba97-4129-c71c-1d29b424831c",
    "pycharm": {
     "name": "#%%\n"
    }
   },
   "execution_count": 440,
   "outputs": [
    {
     "output_type": "execute_result",
     "data": {
      "text/plain": [
       "(67889, 22)"
      ]
     },
     "metadata": {},
     "execution_count": 440
    }
   ]
  },
  {
   "cell_type": "code",
   "source": [
    "logistic_model = LogisticRegression(solver='liblinear',random_state=0).fit(X_train,Y_train)\n",
    "predicted=logistic_model.predict(X_test)\n",
    "print(\"Train Accuracy : {:.2f} %\".format(accuracy_score(logistic_model.predict(X_train),Y_train)*100))\n",
    "print(\"Test Accuracy : {:.2f} %\".format(accuracy_score(logistic_model.predict(X_test),Y_test)*100))\n",
    "\n",
    "cm = confusion_matrix(Y_test,predicted)\n",
    "classes = [\"0\",\"1\"]\n",
    "disp = ConfusionMatrixDisplay(confusion_matrix=cm,\n",
    "                              display_labels=classes)\n",
    "fig, ax = plt.subplots(figsize=(10,10))\n",
    "plt.title(\"Confusion Matrix\")\n",
    "disp = disp.plot(ax=ax)\n",
    "plt.show()"
   ],
   "metadata": {
    "colab": {
     "base_uri": "https://localhost:8080/",
     "height": 609
    },
    "id": "l2rFTI3QXW3R",
    "outputId": "3bafc305-5065-41db-f54d-03b00f1aa456",
    "pycharm": {
     "name": "#%%\n"
    }
   },
   "execution_count": 441,
   "outputs": [
    {
     "output_type": "stream",
     "name": "stdout",
     "text": [
      "Train Accuracy : 74.03 %\n",
      "Test Accuracy : 74.51 %\n"
     ]
    },
    {
     "output_type": "display_data",
     "data": {
      "text/plain": [
       "<Figure size 720x720 with 2 Axes>"
      ],
      "image/png": "[encoded data removed]"
     },
     "metadata": {
      "needs_background": "light"
     }
    }
   ]
  },
  {
   "cell_type": "code",
   "source": [
    "print(classification_report(predicted, Y_test))\n",
    "print(\"ACCURACY:\",accuracy_score(Y_test, predicted))\n",
    "print(\"RECALL:\",recall_score(Y_test, predicted, average=\"binary\"))"
   ],
   "metadata": {
    "colab": {
     "base_uri": "https://localhost:8080/"
    },
    "id": "rVNKsG7XYsLg",
    "outputId": "016bf400-81af-429e-ea20-1cf7934699a3",
    "pycharm": {
     "name": "#%%\n"
    }
   },
   "execution_count": 442,
   "outputs": [
    {
     "output_type": "stream",
     "name": "stdout",
     "text": [
      "              precision    recall  f1-score   support\n",
      "\n",
      "         0.0       0.73      0.75      0.74      3410\n",
      "         1.0       0.76      0.74      0.75      3564\n",
      "\n",
      "    accuracy                           0.75      6974\n",
      "   macro avg       0.75      0.75      0.75      6974\n",
      "weighted avg       0.75      0.75      0.75      6974\n",
      "\n",
      "ACCURACY: 0.7450530542013192\n",
      "RECALL: 0.7570523891767416\n"
     ]
    }
   ]
  },
  {
   "cell_type": "markdown",
   "source": [
    "# random forest\n"
   ],
   "metadata": {
    "id": "socLP7PTYh_F",
    "pycharm": {
     "name": "#%% md\n"
    }
   }
  },
  {
   "cell_type": "code",
   "source": [
    "random_forest = RandomForestClassifier(n_estimators=20,\n",
    "                                       random_state=0).fit(X_train,Y_train)\n",
    "predicted=random_forest.predict(X_test)                                       \n",
    "print(\"Train Accuracy : {:.2f} %\".format(accuracy_score(random_forest.predict(X_train),Y_train)*100))\n",
    "print(\"Test Accuracy : {:.2f} %\".format(accuracy_score(random_forest.predict(X_test),Y_test)*100))\n",
    "\n",
    "cm = confusion_matrix(Y_test,predicted)\n",
    "classes = [\"No\",\"Yes\"]\n",
    "disp = ConfusionMatrixDisplay(confusion_matrix=cm,\n",
    "                              display_labels=classes)\n",
    "fig, ax = plt.subplots(figsize=(10,10))\n",
    "plt.title(\"Confusion Matrix\")\n",
    "disp = disp.plot(ax=ax)\n",
    "plt.show()"
   ],
   "metadata": {
    "colab": {
     "base_uri": "https://localhost:8080/",
     "height": 0
    },
    "id": "eOGSFlSIYoaH",
    "outputId": "85900800-ff66-4d8e-9dbc-80eec0d78657",
    "pycharm": {
     "name": "#%%\n"
    }
   },
   "execution_count": 443,
   "outputs": [
    {
     "output_type": "stream",
     "name": "stdout",
     "text": [
      "Train Accuracy : 99.24 %\n",
      "Test Accuracy : 72.81 %\n"
     ]
    },
    {
     "output_type": "display_data",
     "data": {
      "text/plain": [
       "<Figure size 720x720 with 2 Axes>"
      ],
      "image/png": "[encoded data removed]"
     },
     "metadata": {
      "needs_background": "light"
     }
    }
   ]
  },
  {
   "cell_type": "code",
   "source": [
    "print(classification_report(predicted, Y_test))\n",
    "print(\"ACCURACY:\",accuracy_score(Y_test, predicted))\n",
    "print(\"RECALL:\",recall_score(Y_test, predicted, average=\"binary\"))"
   ],
   "metadata": {
    "colab": {
     "base_uri": "https://localhost:8080/"
    },
    "id": "f0_vaeWUY-xk",
    "outputId": "7abd454d-45e7-4de0-dbd1-e8189df3cefa",
    "pycharm": {
     "name": "#%%\n"
    }
   },
   "execution_count": 444,
   "outputs": [
    {
     "output_type": "stream",
     "name": "stdout",
     "text": [
      "              precision    recall  f1-score   support\n",
      "\n",
      "         0.0       0.72      0.73      0.73      3418\n",
      "         1.0       0.74      0.72      0.73      3556\n",
      "\n",
      "    accuracy                           0.73      6974\n",
      "   macro avg       0.73      0.73      0.73      6974\n",
      "weighted avg       0.73      0.73      0.73      6974\n",
      "\n",
      "ACCURACY: 0.7281330656724978\n",
      "RECALL: 0.7389176741508348\n"
     ]
    }
   ]
  },
  {
   "cell_type": "markdown",
   "source": [
    "# KNN"
   ],
   "metadata": {
    "id": "Px1K7KLYzzrY",
    "pycharm": {
     "name": "#%% md\n"
    }
   }
  },
  {
   "cell_type": "code",
   "source": [
    "knn = KNeighborsClassifier(n_neighbors = 15)\n",
    "knn.fit(X_train,Y_train)"
   ],
   "metadata": {
    "colab": {
     "base_uri": "https://localhost:8080/"
    },
    "id": "-ItIOPEa0ufo",
    "outputId": "fe55c628-631d-4bca-f9e2-044f9b02a3c5",
    "pycharm": {
     "name": "#%%\n"
    }
   },
   "execution_count": 445,
   "outputs": [
    {
     "output_type": "execute_result",
     "data": {
      "text/plain": [
       "KNeighborsClassifier(n_neighbors=15)"
      ]
     },
     "metadata": {},
     "execution_count": 445
    }
   ]
  },
  {
   "cell_type": "code",
   "source": [
    "y_pred = knn.predict(X_test)"
   ],
   "metadata": {
    "id": "Lq1YC5xz0vRp",
    "pycharm": {
     "name": "#%%\n"
    }
   },
   "execution_count": 446,
   "outputs": []
  },
  {
   "cell_type": "code",
   "source": [
    "y_pred"
   ],
   "metadata": {
    "colab": {
     "base_uri": "https://localhost:8080/"
    },
    "id": "5SgAzpT-01VJ",
    "outputId": "4180a913-84d5-400c-a717-a6653a5754ca",
    "pycharm": {
     "name": "#%%\n"
    }
   },
   "execution_count": 447,
   "outputs": [
    {
     "output_type": "execute_result",
     "data": {
      "text/plain": [
       "array([1., 0., 1., ..., 1., 0., 0.])"
      ]
     },
     "metadata": {},
     "execution_count": 447
    }
   ]
  },
  {
   "cell_type": "code",
   "source": [
    "data['Diabetes_binary'].value_counts()"
   ],
   "metadata": {
    "colab": {
     "base_uri": "https://localhost:8080/"
    },
    "id": "0RUGyWJr04Jt",
    "outputId": "3ed57919-cb60-48c4-ef0b-7493126560c2",
    "pycharm": {
     "name": "#%%\n"
    }
   },
   "execution_count": 448,
   "outputs": [
    {
     "output_type": "execute_result",
     "data": {
      "text/plain": [
       "1.0    34867\n",
       "0.0    33022\n",
       "Name: Diabetes_binary, dtype: int64"
      ]
     },
     "metadata": {},
     "execution_count": 448
    }
   ]
  },
  {
   "cell_type": "code",
   "source": [
    "print(confusion_matrix(Y_test,y_pred))"
   ],
   "metadata": {
    "colab": {
     "base_uri": "https://localhost:8080/"
    },
    "id": "WiiJSatF06Wd",
    "outputId": "629d9507-36c6-400d-bd6b-76d3b26538cd",
    "pycharm": {
     "name": "#%%\n"
    }
   },
   "execution_count": 449,
   "outputs": [
    {
     "output_type": "stream",
     "name": "stdout",
     "text": [
      "[[2457 1043]\n",
      " [ 833 2641]]\n"
     ]
    }
   ]
  },
  {
   "cell_type": "code",
   "source": [
    "\n",
    "cm = confusion_matrix(Y_test,y_pred)\n",
    "classes = [\"No\",\"Yes\"]\n",
    "disp = ConfusionMatrixDisplay(confusion_matrix=cm,\n",
    "                              display_labels=classes)\n",
    "fig, ax = plt.subplots(figsize=(10,10))\n",
    "plt.title(\"Confusion Matrix\")\n",
    "disp = disp.plot(ax=ax)\n",
    "plt.show()"
   ],
   "metadata": {
    "id": "Ipmw6suN1_TL",
    "colab": {
     "base_uri": "https://localhost:8080/",
     "height": 0
    },
    "outputId": "7592fa72-e7e8-4c2b-e325-48c340fc804d",
    "pycharm": {
     "name": "#%%\n"
    }
   },
   "execution_count": 450,
   "outputs": [
    {
     "output_type": "display_data",
     "data": {
      "text/plain": [
       "<Figure size 720x720 with 2 Axes>"
      ],
      "image/png": "[encoded data removed]"
     },
     "metadata": {
      "needs_background": "light"
     }
    }
   ]
  },
  {
   "cell_type": "code",
   "source": [
    "print(classification_report(Y_test,y_pred))\n",
    "print(\"ACCURACY:\",accuracy_score(Y_test, predicted))\n",
    "print(\"RECALL:\",recall_score(Y_test, predicted, average=\"binary\"))"
   ],
   "metadata": {
    "colab": {
     "base_uri": "https://localhost:8080/"
    },
    "id": "5nXBCcWk04dZ",
    "outputId": "d5c7a157-aac4-467a-930c-09bc05f8a96e",
    "pycharm": {
     "name": "#%%\n"
    }
   },
   "execution_count": 451,
   "outputs": [
    {
     "output_type": "stream",
     "name": "stdout",
     "text": [
      "              precision    recall  f1-score   support\n",
      "\n",
      "         0.0       0.75      0.70      0.72      3500\n",
      "         1.0       0.72      0.76      0.74      3474\n",
      "\n",
      "    accuracy                           0.73      6974\n",
      "   macro avg       0.73      0.73      0.73      6974\n",
      "weighted avg       0.73      0.73      0.73      6974\n",
      "\n",
      "ACCURACY: 0.7281330656724978\n",
      "RECALL: 0.7389176741508348\n"
     ]
    }
   ]
  },
  {
   "cell_type": "code",
   "source": [
    "# Running KNN for various values of n_neighbors and storing results\n",
    "# knn_r_acc = []\n",
    "# for i in range(1,17,1):\n",
    "#     knn = KNeighborsClassifier(n_neighbors=i)\n",
    "#     knn.fit(X_train,Y_train)\n",
    "#     test_score = knn.score(X_test,Y_test)\n",
    "#     train_score = knn.score(X_train,Y_train)\n",
    "#     knn_r_acc.append((i, test_score ,train_score))\n",
    "# df = pd.DataFrame(knn_r_acc, columns=['K','Test Score','Train Score'])\n",
    "# print(df)\n",
    "\n",
    "#k=15 found the for the best result\n",
    "#outcome:\n",
    "#      K  Test Score  Train Score\n",
    "# 0    1    0.659855     0.996558\n",
    "# 1    2    0.639277     0.824081\n",
    "# 2    3    0.680003     0.830821\n",
    "# 3    4    0.668674     0.791421\n",
    "# 4    5    0.691403     0.793447\n",
    "# 5    6    0.686241     0.777278\n",
    "# 6    7    0.701728     0.779357\n",
    "# 7    8    0.698717     0.768494\n",
    "# 8    9    0.709472     0.769373\n",
    "# 9   10    0.705815     0.761970\n",
    "# 10  11    0.712698     0.763601\n",
    "# 11  12    0.711981     0.758008\n",
    "# 12  13    0.716211     0.759281\n",
    "# 13  14    0.715781     0.754692\n",
    "# 14  15    0.720083     0.754782\n",
    "# 15  16    0.719796     0.751519"
   ],
   "metadata": {
    "id": "V_lAtzjn6Nru",
    "pycharm": {
     "name": "#%%\n"
    }
   },
   "execution_count": 452,
   "outputs": []
  },
  {
   "cell_type": "markdown",
   "source": [
    "# Feature importance"
   ],
   "metadata": {
    "id": "VKA5M8vO22FP",
    "pycharm": {
     "name": "#%% md\n"
    }
   }
  },
  {
   "cell_type": "code",
   "source": [
    "importance_rf = pd.DataFrame({\n",
    "    'feature': X_train.columns,\n",
    "    'score': random_forest.feature_importances_\n",
    "}).sort_values('score', ascending=False)\n",
    "\n",
    "importance_rf.head(10)"
   ],
   "metadata": {
    "colab": {
     "base_uri": "https://localhost:8080/",
     "height": 363
    },
    "id": "h-vLrXjw24tY",
    "outputId": "3e43268f-8619-43af-c0e3-4db59709a8b5",
    "pycharm": {
     "name": "#%%\n"
    }
   },
   "execution_count": 453,
   "outputs": [
    {
     "output_type": "execute_result",
     "data": {
      "text/plain": [
       "      feature     score\n",
       "3         BMI  0.171667\n",
       "18        Age  0.125079\n",
       "13    GenHlth  0.103410\n",
       "20     Income  0.085958\n",
       "0      HighBP  0.069433\n",
       "15   PhysHlth  0.068774\n",
       "19  Education  0.059116\n",
       "14   MentHlth  0.053574\n",
       "1    HighChol  0.041222\n",
       "4      Smoker  0.029527"
      ],
      "text/html": [
       "\n",
       "  <div id=\"df-b3d64aae-5bb4-4c37-8cd2-a2e7fa7aaff6\">\n",
       "    <div class=\"colab-df-container\">\n",
       "      <div>\n",
       "<style scoped>\n",
       "    .dataframe tbody tr th:only-of-type {\n",
       "        vertical-align: middle;\n",
       "    }\n",
       "\n",
       "    .dataframe tbody tr th {\n",
       "        vertical-align: top;\n",
       "    }\n",
       "\n",
       "    .dataframe thead th {\n",
       "        text-align: right;\n",
       "    }\n",
       "</style>\n",
       "<table border=\"1\" class=\"dataframe\">\n",
       "  <thead>\n",
       "    <tr style=\"text-align: right;\">\n",
       "      <th></th>\n",
       "      <th>feature</th>\n",
       "      <th>score</th>\n",
       "    </tr>\n",
       "  </thead>\n",
       "  <tbody>\n",
       "    <tr>\n",
       "      <th>3</th>\n",
       "      <td>BMI</td>\n",
       "      <td>0.171667</td>\n",
       "    </tr>\n",
       "    <tr>\n",
       "      <th>18</th>\n",
       "      <td>Age</td>\n",
       "      <td>0.125079</td>\n",
       "    </tr>\n",
       "    <tr>\n",
       "      <th>13</th>\n",
       "      <td>GenHlth</td>\n",
       "      <td>0.103410</td>\n",
       "    </tr>\n",
       "    <tr>\n",
       "      <th>20</th>\n",
       "      <td>Income</td>\n",
       "      <td>0.085958</td>\n",
       "    </tr>\n",
       "    <tr>\n",
       "      <th>0</th>\n",
       "      <td>HighBP</td>\n",
       "      <td>0.069433</td>\n",
       "    </tr>\n",
       "    <tr>\n",
       "      <th>15</th>\n",
       "      <td>PhysHlth</td>\n",
       "      <td>0.068774</td>\n",
       "    </tr>\n",
       "    <tr>\n",
       "      <th>19</th>\n",
       "      <td>Education</td>\n",
       "      <td>0.059116</td>\n",
       "    </tr>\n",
       "    <tr>\n",
       "      <th>14</th>\n",
       "      <td>MentHlth</td>\n",
       "      <td>0.053574</td>\n",
       "    </tr>\n",
       "    <tr>\n",
       "      <th>1</th>\n",
       "      <td>HighChol</td>\n",
       "      <td>0.041222</td>\n",
       "    </tr>\n",
       "    <tr>\n",
       "      <th>4</th>\n",
       "      <td>Smoker</td>\n",
       "      <td>0.029527</td>\n",
       "    </tr>\n",
       "  </tbody>\n",
       "</table>\n",
       "</div>\n",
       "      <button class=\"colab-df-convert\" onclick=\"convertToInteractive('df-b3d64aae-5bb4-4c37-8cd2-a2e7fa7aaff6')\"\n",
       "              title=\"Convert this dataframe to an interactive table.\"\n",
       "              style=\"display:none;\">\n",
       "        \n",
       "  <svg xmlns=\"http://www.w3.org/2000/svg\" height=\"24px\"viewBox=\"0 0 24 24\"\n",
       "       width=\"24px\">\n",
       "    <path d=\"M0 0h24v24H0V0z\" fill=\"none\"/>\n",
       "    <path d=\"M18.56 5.44l.94 2.06.94-2.06 2.06-.94-2.06-.94-.94-2.06-.94 2.06-2.06.94zm-11 1L8.5 8.5l.94-2.06 2.06-.94-2.06-.94L8.5 2.5l-.94 2.06-2.06.94zm10 10l.94 2.06.94-2.06 2.06-.94-2.06-.94-.94-2.06-.94 2.06-2.06.94z\"/><path d=\"M17.41 7.96l-1.37-1.37c-.4-.4-.92-.59-1.43-.59-.52 0-1.04.2-1.43.59L10.3 9.45l-7.72 7.72c-.78.78-.78 2.05 0 2.83L4 21.41c.39.39.9.59 1.41.59.51 0 1.02-.2 1.41-.59l7.78-7.78 2.81-2.81c.8-.78.8-2.07 0-2.86zM5.41 20L4 18.59l7.72-7.72 1.47 1.35L5.41 20z\"/>\n",
       "  </svg>\n",
       "      </button>\n",
       "      \n",
       "  <style>\n",
       "    .colab-df-container {\n",
       "      display:flex;\n",
       "      flex-wrap:wrap;\n",
       "      gap: 12px;\n",
       "    }\n",
       "\n",
       "    .colab-df-convert {\n",
       "      background-color: #E8F0FE;\n",
       "      border: none;\n",
       "      border-radius: 50%;\n",
       "      cursor: pointer;\n",
       "      display: none;\n",
       "      fill: #1967D2;\n",
       "      height: 32px;\n",
       "      padding: 0 0 0 0;\n",
       "      width: 32px;\n",
       "    }\n",
       "\n",
       "    .colab-df-convert:hover {\n",
       "      background-color: #E2EBFA;\n",
       "      box-shadow: 0px 1px 2px rgba(60, 64, 67, 0.3), 0px 1px 3px 1px rgba(60, 64, 67, 0.15);\n",
       "      fill: #174EA6;\n",
       "    }\n",
       "\n",
       "    [theme=dark] .colab-df-convert {\n",
       "      background-color: #3B4455;\n",
       "      fill: #D2E3FC;\n",
       "    }\n",
       "\n",
       "    [theme=dark] .colab-df-convert:hover {\n",
       "      background-color: #434B5C;\n",
       "      box-shadow: 0px 1px 3px 1px rgba(0, 0, 0, 0.15);\n",
       "      filter: drop-shadow(0px 1px 2px rgba(0, 0, 0, 0.3));\n",
       "      fill: #FFFFFF;\n",
       "    }\n",
       "  </style>\n",
       "\n",
       "      <script>\n",
       "        const buttonEl =\n",
       "          document.querySelector('#df-b3d64aae-5bb4-4c37-8cd2-a2e7fa7aaff6 button.colab-df-convert');\n",
       "        buttonEl.style.display =\n",
       "          google.colab.kernel.accessAllowed ? 'block' : 'none';\n",
       "\n",
       "        async function convertToInteractive(key) {\n",
       "          const element = document.querySelector('#df-b3d64aae-5bb4-4c37-8cd2-a2e7fa7aaff6');\n",
       "          const dataTable =\n",
       "            await google.colab.kernel.invokeFunction('convertToInteractive',\n",
       "                                                     [key], {});\n",
       "          if (!dataTable) return;\n",
       "\n",
       "          const docLinkHtml = 'Like what you see? Visit the ' +\n",
       "            '<a target=\"_blank\" href=https://colab.research.google.com/notebooks/data_table.ipynb>data table notebook</a>'\n",
       "            + ' to learn more about interactive tables.';\n",
       "          element.innerHTML = '';\n",
       "          dataTable['output_type'] = 'display_data';\n",
       "          await google.colab.output.renderOutput(dataTable, element);\n",
       "          const docLink = document.createElement('div');\n",
       "          docLink.innerHTML = docLinkHtml;\n",
       "          element.appendChild(docLink);\n",
       "        }\n",
       "      </script>\n",
       "    </div>\n",
       "  </div>\n",
       "  "
      ]
     },
     "metadata": {},
     "execution_count": 453
    }
   ]
  },
  {
   "cell_type": "code",
   "source": [
    "# Income, Education, PhysActivity --> Negative correlation\n",
    "# GenHlth, HighBP, DiffWalk,BMI --> Positive correlation\n",
    "plt.figure(figsize = (15,5))\n",
    "sns.set(font_scale = 1)\n",
    "plt.title('Feature Importance according to random forest')\n",
    "ax = sns.barplot(data=importance_rf.head(10), x='score', y='feature')\n",
    "ax.set(xlabel='Score', ylabel='Feature')"
   ],
   "metadata": {
    "colab": {
     "base_uri": "https://localhost:8080/",
     "height": 372
    },
    "id": "9ELPkCg825Zr",
    "outputId": "31c3d251-9c49-4efd-ce84-61d4d8fffaa1",
    "pycharm": {
     "name": "#%%\n"
    }
   },
   "execution_count": 454,
   "outputs": [
    {
     "output_type": "execute_result",
     "data": {
      "text/plain": [
       "[Text(0, 0.5, 'Feature'), Text(0.5, 0, 'Score')]"
      ]
     },
     "metadata": {},
     "execution_count": 454
    },
    {
     "output_type": "display_data",
     "data": {
      "text/plain": [
       "<Figure size 1080x360 with 1 Axes>"
      ],
      "image/png": "[encoded data removed]"
     },
     "metadata": {
      "needs_background": "light"
     }
    }
   ]
  },
  {
   "cell_type": "code",
   "source": [
    "corr_with_class.plot(kind='barh', figsize=(10, 7))"
   ],
   "metadata": {
    "colab": {
     "base_uri": "https://localhost:8080/",
     "height": 448
    },
    "id": "yafbPmyq5ILc",
    "outputId": "b87129f0-d44e-40fa-97e2-574c36fe1639",
    "pycharm": {
     "name": "#%%\n"
    }
   },
   "execution_count": 455,
   "outputs": [
    {
     "output_type": "execute_result",
     "data": {
      "text/plain": [
       "<matplotlib.axes._subplots.AxesSubplot at 0x7f9b2ee923d0>"
      ]
     },
     "metadata": {},
     "execution_count": 455
    },
    {
     "output_type": "display_data",
     "data": {
      "text/plain": [
       "<Figure size 720x504 with 1 Axes>"
      ],
      "image/png": "[encoded data removed]"
     },
     "metadata": {}
    }
   ]
  },
  {
   "cell_type": "code",
   "source": [
    "data.columns"
   ],
   "metadata": {
    "colab": {
     "base_uri": "https://localhost:8080/"
    },
    "id": "wf6mVhhIDx7e",
    "outputId": "60258b7a-6ba7-4800-e419-80ab675bbd58",
    "pycharm": {
     "name": "#%%\n"
    }
   },
   "execution_count": 456,
   "outputs": [
    {
     "output_type": "execute_result",
     "data": {
      "text/plain": [
       "Index(['Diabetes_binary', 'HighBP', 'HighChol', 'CholCheck', 'BMI', 'Smoker',\n",
       "       'Stroke', 'HeartDiseaseorAttack', 'PhysActivity', 'Fruits', 'Veggies',\n",
       "       'HvyAlcoholConsump', 'AnyHealthcare', 'NoDocbcCost', 'GenHlth',\n",
       "       'MentHlth', 'PhysHlth', 'DiffWalk', 'Sex', 'Age', 'Education',\n",
       "       'Income'],\n",
       "      dtype='object')"
      ]
     },
     "metadata": {},
     "execution_count": 456
    }
   ]
  },
  {
   "cell_type": "code",
   "source": [
    "data.shape"
   ],
   "metadata": {
    "colab": {
     "base_uri": "https://localhost:8080/"
    },
    "id": "LEZHsoXAG4ET",
    "outputId": "a4cc6220-ef7b-4d1d-e1ad-c717b7101094",
    "pycharm": {
     "name": "#%%\n"
    }
   },
   "execution_count": 457,
   "outputs": [
    {
     "output_type": "execute_result",
     "data": {
      "text/plain": [
       "(67889, 22)"
      ]
     },
     "metadata": {},
     "execution_count": 457
    }
   ]
  },
  {
   "cell_type": "code",
   "source": [
    "#i want to leave that attributes: BMI,  Age,  GenHlth,  Income , PhysHlth and of course the class attribute\n",
    "\n",
    "#these 11 attributes almost no effect on the modelling algorithms so i dropped them\n",
    "data.drop(['CholCheck'],axis=1,inplace=True)\n",
    "data.drop(['Smoker'],axis=1,inplace=True)\n",
    "data.drop(['Stroke'],axis=1,inplace=True)\n",
    "data.drop(['HeartDiseaseorAttack'],axis=1,inplace=True)\n",
    "data.drop(['PhysActivity'],axis=1,inplace=True)\n",
    "data.drop(['Fruits'],axis=1,inplace=True)\n",
    "data.drop(['Veggies'],axis=1,inplace=True)\n",
    "data.drop(['Sex'],axis=1,inplace=True)\n",
    "data.drop(['HvyAlcoholConsump'],axis=1,inplace=True)\n",
    "data.drop(['AnyHealthcare'],axis=1,inplace=True)\n",
    "data.drop(['NoDocbcCost'],axis=1,inplace=True)\n",
    "\n",
    "#these 5 attributes are kinda effective but I am choosing to drop them to increase user experience.\n",
    "data.drop(['DiffWalk'],axis=1,inplace=True)\n",
    "data.drop(['HighChol'],axis=1,inplace=True)\n",
    "data.drop(['MentHlth'],axis=1,inplace=True)\n",
    "data.drop(['Education'],axis=1,inplace=True)\n",
    "# data.drop(['HighBP'],axis=1,inplace=True)\n",
    "# data.drop(['PhysHlth'],axis=1,inplace=True)\n",
    "\n",
    "data.shape\n",
    "\n"
   ],
   "metadata": {
    "colab": {
     "base_uri": "https://localhost:8080/"
    },
    "id": "yzrx1orRDH_u",
    "outputId": "09bb3ebc-0af1-4214-c6b2-e93b65b699b5",
    "pycharm": {
     "name": "#%%\n"
    }
   },
   "execution_count": 458,
   "outputs": [
    {
     "output_type": "execute_result",
     "data": {
      "text/plain": [
       "(67889, 7)"
      ]
     },
     "metadata": {},
     "execution_count": 458
    }
   ]
  },
  {
   "cell_type": "markdown",
   "source": [
    "# Retesting the best model with these attributes"
   ],
   "metadata": {
    "id": "rMyKbrt0JjcV",
    "pycharm": {
     "name": "#%% md\n"
    }
   }
  },
  {
   "cell_type": "code",
   "source": [
    "cols = list(data.columns)\n",
    "cols.remove(\"Diabetes_binary\")\n",
    "sampled,target = SMOTE().fit_resample(data[cols],data[\"Diabetes_binary\"])\n",
    "X_train,X_test,Y_train,Y_test = train_test_split(sampled[cols],\n",
    "                                                 target,\n",
    "                                                 test_size = 0.1,\n",
    "                                                 shuffle=True)"
   ],
   "metadata": {
    "id": "58BZAKC_JpqO",
    "pycharm": {
     "name": "#%%\n"
    }
   },
   "execution_count": 459,
   "outputs": []
  },
  {
   "cell_type": "code",
   "source": [
    "print(\"Train Feature Size : \",len(X_train))\n",
    "print(\"Train Label Size : \",len(Y_train))\n",
    "print(\"Test Feature Size : \",len(X_test))\n",
    "print(\"Test Label Size : \",len(Y_test))"
   ],
   "metadata": {
    "colab": {
     "base_uri": "https://localhost:8080/"
    },
    "id": "ERA7cjI2M6Ae",
    "outputId": "3f39f86d-ae46-4312-d63b-537a60df6433",
    "pycharm": {
     "name": "#%%\n"
    }
   },
   "execution_count": 460,
   "outputs": [
    {
     "output_type": "stream",
     "name": "stdout",
     "text": [
      "Train Feature Size :  62760\n",
      "Train Label Size :  62760\n",
      "Test Feature Size :  6974\n",
      "Test Label Size :  6974\n"
     ]
    }
   ]
  },
  {
   "cell_type": "code",
   "source": [
    "data.shape"
   ],
   "metadata": {
    "colab": {
     "base_uri": "https://localhost:8080/"
    },
    "id": "pWrFcWj5M8uc",
    "outputId": "acd42d96-3959-468f-b8e7-ed0b8baa0fe7",
    "pycharm": {
     "name": "#%%\n"
    }
   },
   "execution_count": 461,
   "outputs": [
    {
     "output_type": "execute_result",
     "data": {
      "text/plain": [
       "(67889, 7)"
      ]
     },
     "metadata": {},
     "execution_count": 461
    }
   ]
  },
  {
   "cell_type": "code",
   "source": [
    "logistic_model = LogisticRegression(solver='liblinear').fit(X_train,Y_train)\n",
    "predicted=logistic_model.predict(X_test)\n",
    "print(\"Train Accuracy : {:.2f} %\".format(accuracy_score(logistic_model.predict(X_train),Y_train)*100))\n",
    "print(\"Test Accuracy : {:.2f} %\".format(accuracy_score(logistic_model.predict(X_test),Y_test)*100))\n",
    "\n",
    "cm = confusion_matrix(Y_test,predicted)\n",
    "classes = [\"0\",\"1\"]\n",
    "disp = ConfusionMatrixDisplay(confusion_matrix=cm,\n",
    "                              display_labels=classes)\n",
    "fig, ax = plt.subplots(figsize=(10,10))\n",
    "plt.title(\"Confusion Matrix\")\n",
    "disp = disp.plot(ax=ax)\n",
    "plt.show()"
   ],
   "metadata": {
    "colab": {
     "base_uri": "https://localhost:8080/",
     "height": 611
    },
    "id": "Rjq7OY8uNBcm",
    "outputId": "f5d83fad-4972-45a4-9a88-0e0fa82dc406",
    "pycharm": {
     "name": "#%%\n"
    }
   },
   "execution_count": 462,
   "outputs": [
    {
     "output_type": "stream",
     "name": "stdout",
     "text": [
      "Train Accuracy : 73.17 %\n",
      "Test Accuracy : 72.40 %\n"
     ]
    },
    {
     "output_type": "display_data",
     "data": {
      "text/plain": [
       "<Figure size 720x720 with 2 Axes>"
      ],
      "image/png": "[encoded data removed]"
     },
     "metadata": {}
    }
   ]
  },
  {
   "cell_type": "code",
   "source": [
    "print(classification_report(predicted, Y_test))\n",
    "print(\"ACCURACY:\",accuracy_score(Y_test, predicted))\n",
    "print(\"RECALL:\",recall_score(Y_test, predicted, average=\"binary\"))"
   ],
   "metadata": {
    "colab": {
     "base_uri": "https://localhost:8080/"
    },
    "id": "3go2f6qvNDgu",
    "outputId": "565e6cf5-5f0f-43bb-857c-f50318688d6c",
    "pycharm": {
     "name": "#%%\n"
    }
   },
   "execution_count": 463,
   "outputs": [
    {
     "output_type": "stream",
     "name": "stdout",
     "text": [
      "              precision    recall  f1-score   support\n",
      "\n",
      "         0.0       0.69      0.74      0.72      3291\n",
      "         1.0       0.75      0.71      0.73      3683\n",
      "\n",
      "    accuracy                           0.72      6974\n",
      "   macro avg       0.72      0.72      0.72      6974\n",
      "weighted avg       0.73      0.72      0.72      6974\n",
      "\n",
      "ACCURACY: 0.7239747634069401\n",
      "RECALL: 0.7540462427745664\n"
     ]
    }
   ]
  }
 ]
}